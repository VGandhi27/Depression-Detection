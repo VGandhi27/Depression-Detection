{
 "cells": [
  {
   "cell_type": "markdown",
   "id": "c72bb4d5",
   "metadata": {},
   "source": [
    "# Depression Detection using Naive Bayes Theorem"
   ]
  },
  {
   "cell_type": "markdown",
   "id": "2061417d",
   "metadata": {},
   "source": [
    "## Adding Dependency"
   ]
  },
  {
   "cell_type": "code",
   "execution_count": 32,
   "id": "2832f588",
   "metadata": {},
   "outputs": [],
   "source": [
    "import numpy as np\n",
    "import pandas as pd\n",
    "from matplotlib import pyplot as py\n",
    "from sklearn.model_selection import train_test_split\n",
    "from sklearn.naive_bayes import GaussianNB\n",
    "from sklearn.metrics import accuracy_score\n",
    "import seaborn as sns"
   ]
  },
  {
   "cell_type": "markdown",
   "id": "7128f397",
   "metadata": {},
   "source": [
    "## DataSet Collection & Processing"
   ]
  },
  {
   "cell_type": "code",
   "execution_count": 2,
   "id": "73b6817f",
   "metadata": {},
   "outputs": [],
   "source": [
    "df_test=pd.read_csv('test.csv', encoding = \"ISO-8859-1\") \n",
    "df_train=pd.read_csv('train.csv', encoding = \"ISO-8859-1\") "
   ]
  },
  {
   "cell_type": "code",
   "execution_count": 3,
   "id": "77b62dd9",
   "metadata": {},
   "outputs": [
    {
     "data": {
      "text/html": [
       "<div>\n",
       "<style scoped>\n",
       "    .dataframe tbody tr th:only-of-type {\n",
       "        vertical-align: middle;\n",
       "    }\n",
       "\n",
       "    .dataframe tbody tr th {\n",
       "        vertical-align: top;\n",
       "    }\n",
       "\n",
       "    .dataframe thead th {\n",
       "        text-align: right;\n",
       "    }\n",
       "</style>\n",
       "<table border=\"1\" class=\"dataframe\">\n",
       "  <thead>\n",
       "    <tr style=\"text-align: right;\">\n",
       "      <th></th>\n",
       "      <th>surveyid</th>\n",
       "      <th>village</th>\n",
       "      <th>survey_date</th>\n",
       "      <th>femaleres</th>\n",
       "      <th>age</th>\n",
       "      <th>married</th>\n",
       "      <th>children</th>\n",
       "      <th>hhsize</th>\n",
       "      <th>edu</th>\n",
       "      <th>hh_children</th>\n",
       "      <th>...</th>\n",
       "      <th>given_mpesa</th>\n",
       "      <th>amount_given_mpesa</th>\n",
       "      <th>received_mpesa</th>\n",
       "      <th>amount_received_mpesa</th>\n",
       "      <th>net_mpesa</th>\n",
       "      <th>saved_mpesa</th>\n",
       "      <th>amount_saved_mpesa</th>\n",
       "      <th>early_survey</th>\n",
       "      <th>depressed</th>\n",
       "      <th>day_of_week</th>\n",
       "    </tr>\n",
       "  </thead>\n",
       "  <tbody>\n",
       "    <tr>\n",
       "      <th>0</th>\n",
       "      <td>926</td>\n",
       "      <td>91</td>\n",
       "      <td>23-Nov-61</td>\n",
       "      <td>1</td>\n",
       "      <td>28.0</td>\n",
       "      <td>1</td>\n",
       "      <td>4</td>\n",
       "      <td>6</td>\n",
       "      <td>10</td>\n",
       "      <td>0</td>\n",
       "      <td>...</td>\n",
       "      <td>0</td>\n",
       "      <td>0.0</td>\n",
       "      <td>0</td>\n",
       "      <td>0.000000</td>\n",
       "      <td>0.000000</td>\n",
       "      <td>1</td>\n",
       "      <td>0.000000</td>\n",
       "      <td>0</td>\n",
       "      <td>0</td>\n",
       "      <td>5</td>\n",
       "    </tr>\n",
       "    <tr>\n",
       "      <th>1</th>\n",
       "      <td>747</td>\n",
       "      <td>57</td>\n",
       "      <td>24-Oct-61</td>\n",
       "      <td>1</td>\n",
       "      <td>23.0</td>\n",
       "      <td>1</td>\n",
       "      <td>3</td>\n",
       "      <td>5</td>\n",
       "      <td>8</td>\n",
       "      <td>0</td>\n",
       "      <td>...</td>\n",
       "      <td>0</td>\n",
       "      <td>0.0</td>\n",
       "      <td>1</td>\n",
       "      <td>4.804611</td>\n",
       "      <td>4.804611</td>\n",
       "      <td>0</td>\n",
       "      <td>0.000000</td>\n",
       "      <td>0</td>\n",
       "      <td>1</td>\n",
       "      <td>3</td>\n",
       "    </tr>\n",
       "    <tr>\n",
       "      <th>2</th>\n",
       "      <td>1190</td>\n",
       "      <td>115</td>\n",
       "      <td>05-Oct-61</td>\n",
       "      <td>1</td>\n",
       "      <td>22.0</td>\n",
       "      <td>1</td>\n",
       "      <td>3</td>\n",
       "      <td>5</td>\n",
       "      <td>9</td>\n",
       "      <td>0</td>\n",
       "      <td>...</td>\n",
       "      <td>0</td>\n",
       "      <td>0.0</td>\n",
       "      <td>0</td>\n",
       "      <td>8.007685</td>\n",
       "      <td>8.007685</td>\n",
       "      <td>1</td>\n",
       "      <td>0.000000</td>\n",
       "      <td>0</td>\n",
       "      <td>0</td>\n",
       "      <td>5</td>\n",
       "    </tr>\n",
       "    <tr>\n",
       "      <th>3</th>\n",
       "      <td>1065</td>\n",
       "      <td>97</td>\n",
       "      <td>23-Sep-61</td>\n",
       "      <td>1</td>\n",
       "      <td>27.0</td>\n",
       "      <td>1</td>\n",
       "      <td>2</td>\n",
       "      <td>4</td>\n",
       "      <td>10</td>\n",
       "      <td>2</td>\n",
       "      <td>...</td>\n",
       "      <td>0</td>\n",
       "      <td>0.0</td>\n",
       "      <td>0</td>\n",
       "      <td>0.000000</td>\n",
       "      <td>0.000000</td>\n",
       "      <td>1</td>\n",
       "      <td>1.249199</td>\n",
       "      <td>0</td>\n",
       "      <td>0</td>\n",
       "      <td>0</td>\n",
       "    </tr>\n",
       "    <tr>\n",
       "      <th>4</th>\n",
       "      <td>806</td>\n",
       "      <td>42</td>\n",
       "      <td>12-Sep-61</td>\n",
       "      <td>0</td>\n",
       "      <td>59.0</td>\n",
       "      <td>0</td>\n",
       "      <td>4</td>\n",
       "      <td>6</td>\n",
       "      <td>10</td>\n",
       "      <td>4</td>\n",
       "      <td>...</td>\n",
       "      <td>0</td>\n",
       "      <td>0.0</td>\n",
       "      <td>0</td>\n",
       "      <td>0.000000</td>\n",
       "      <td>0.000000</td>\n",
       "      <td>0</td>\n",
       "      <td>0.000000</td>\n",
       "      <td>0</td>\n",
       "      <td>0</td>\n",
       "      <td>3</td>\n",
       "    </tr>\n",
       "  </tbody>\n",
       "</table>\n",
       "<p>5 rows × 75 columns</p>\n",
       "</div>"
      ],
      "text/plain": [
       "   surveyid  village survey_date  femaleres   age  married  children  hhsize  \\\n",
       "0       926       91   23-Nov-61          1  28.0        1         4       6   \n",
       "1       747       57   24-Oct-61          1  23.0        1         3       5   \n",
       "2      1190      115   05-Oct-61          1  22.0        1         3       5   \n",
       "3      1065       97   23-Sep-61          1  27.0        1         2       4   \n",
       "4       806       42   12-Sep-61          0  59.0        0         4       6   \n",
       "\n",
       "   edu  hh_children  ...  given_mpesa  amount_given_mpesa  received_mpesa  \\\n",
       "0   10            0  ...            0                 0.0               0   \n",
       "1    8            0  ...            0                 0.0               1   \n",
       "2    9            0  ...            0                 0.0               0   \n",
       "3   10            2  ...            0                 0.0               0   \n",
       "4   10            4  ...            0                 0.0               0   \n",
       "\n",
       "   amount_received_mpesa  net_mpesa  saved_mpesa  amount_saved_mpesa  \\\n",
       "0               0.000000   0.000000            1            0.000000   \n",
       "1               4.804611   4.804611            0            0.000000   \n",
       "2               8.007685   8.007685            1            0.000000   \n",
       "3               0.000000   0.000000            1            1.249199   \n",
       "4               0.000000   0.000000            0            0.000000   \n",
       "\n",
       "   early_survey  depressed  day_of_week  \n",
       "0             0          0            5  \n",
       "1             0          1            3  \n",
       "2             0          0            5  \n",
       "3             0          0            0  \n",
       "4             0          0            3  \n",
       "\n",
       "[5 rows x 75 columns]"
      ]
     },
     "execution_count": 3,
     "metadata": {},
     "output_type": "execute_result"
    }
   ],
   "source": [
    "df_train.head()"
   ]
  },
  {
   "cell_type": "code",
   "execution_count": 4,
   "id": "1b06a977",
   "metadata": {},
   "outputs": [
    {
     "data": {
      "text/plain": [
       "(1143, 75)"
      ]
     },
     "execution_count": 4,
     "metadata": {},
     "output_type": "execute_result"
    }
   ],
   "source": [
    "df_train.shape"
   ]
  },
  {
   "cell_type": "code",
   "execution_count": 5,
   "id": "aeb4968e",
   "metadata": {},
   "outputs": [
    {
     "data": {
      "text/plain": [
       "Index(['surveyid', 'village', 'survey_date', 'femaleres', 'age', 'married',\n",
       "       'children', 'hhsize', 'edu', 'hh_children', 'hh_totalmembers',\n",
       "       'cons_nondurable', 'asset_livestock', 'asset_durable', 'asset_phone',\n",
       "       'asset_savings', 'asset_land_owned_total', 'asset_niceroof',\n",
       "       'cons_allfood', 'cons_ownfood', 'cons_alcohol', 'cons_tobacco',\n",
       "       'cons_med_total', 'cons_med_children', 'cons_ed', 'cons_social',\n",
       "       'cons_other', 'ent_wagelabor', 'ent_ownfarm', 'ent_business',\n",
       "       'ent_nonagbusiness', 'ent_employees', 'ent_nonag_revenue',\n",
       "       'ent_nonag_flowcost', 'ent_farmrevenue', 'ent_farmexpenses',\n",
       "       'ent_animalstockrev', 'ent_total_cost', 'fs_adskipm_often',\n",
       "       'fs_adwholed_often', 'fs_chskipm_often', 'fs_chwholed_often', 'fs_meat',\n",
       "       'fs_enoughtom', 'fs_sleephun', 'med_expenses_hh_ep',\n",
       "       'med_expenses_sp_ep', 'med_expenses_child_ep',\n",
       "       'med_portion_sickinjured', 'med_port_sick_child', 'med_afford_port',\n",
       "       'med_sickdays_hhave', 'med_healthconsult', 'med_vacc_newborns',\n",
       "       'med_child_check', 'med_u5_deaths', 'ed_expenses', 'ed_expenses_perkid',\n",
       "       'ed_schoolattend', 'ed_sch_missedpc', 'ed_work_act_pc', 'labor_primary',\n",
       "       'wage_expenditures', 'durable_investment', 'nondurable_investment',\n",
       "       'given_mpesa', 'amount_given_mpesa', 'received_mpesa',\n",
       "       'amount_received_mpesa', 'net_mpesa', 'saved_mpesa',\n",
       "       'amount_saved_mpesa', 'early_survey', 'depressed', 'day_of_week'],\n",
       "      dtype='object')"
      ]
     },
     "execution_count": 5,
     "metadata": {},
     "output_type": "execute_result"
    }
   ],
   "source": [
    "df_train.keys()"
   ]
  },
  {
   "cell_type": "code",
   "execution_count": 6,
   "id": "478811dc",
   "metadata": {},
   "outputs": [
    {
     "data": {
      "text/plain": [
       "surveyid              0\n",
       "village               0\n",
       "survey_date           0\n",
       "femaleres             0\n",
       "age                   0\n",
       "                     ..\n",
       "saved_mpesa           0\n",
       "amount_saved_mpesa    0\n",
       "early_survey          0\n",
       "depressed             0\n",
       "day_of_week           0\n",
       "Length: 75, dtype: int64"
      ]
     },
     "execution_count": 6,
     "metadata": {},
     "output_type": "execute_result"
    }
   ],
   "source": [
    "df_train.isnull().sum()"
   ]
  },
  {
   "cell_type": "code",
   "execution_count": 7,
   "id": "abd7caf1",
   "metadata": {},
   "outputs": [],
   "source": [
    "df_train.dropna(inplace=True)"
   ]
  },
  {
   "cell_type": "code",
   "execution_count": 8,
   "id": "1582566a",
   "metadata": {},
   "outputs": [
    {
     "data": {
      "text/plain": [
       "0    10\n",
       "1     2\n",
       "Name: depressed, dtype: int64"
      ]
     },
     "execution_count": 8,
     "metadata": {},
     "output_type": "execute_result"
    }
   ],
   "source": [
    "df_train['depressed'].value_counts()"
   ]
  },
  {
   "cell_type": "code",
   "execution_count": 9,
   "id": "d6eb02ec",
   "metadata": {},
   "outputs": [
    {
     "name": "stderr",
     "output_type": "stream",
     "text": [
      "C:\\Users\\Vidushi\\AppData\\Local\\Temp\\ipykernel_6384\\3785429531.py:1: FutureWarning: The default value of numeric_only in DataFrameGroupBy.mean is deprecated. In a future version, numeric_only will default to False. Either specify numeric_only or select only columns which should be valid for the function.\n",
      "  df_train.groupby('depressed').mean()\n"
     ]
    },
    {
     "data": {
      "text/html": [
       "<div>\n",
       "<style scoped>\n",
       "    .dataframe tbody tr th:only-of-type {\n",
       "        vertical-align: middle;\n",
       "    }\n",
       "\n",
       "    .dataframe tbody tr th {\n",
       "        vertical-align: top;\n",
       "    }\n",
       "\n",
       "    .dataframe thead th {\n",
       "        text-align: right;\n",
       "    }\n",
       "</style>\n",
       "<table border=\"1\" class=\"dataframe\">\n",
       "  <thead>\n",
       "    <tr style=\"text-align: right;\">\n",
       "      <th></th>\n",
       "      <th>surveyid</th>\n",
       "      <th>village</th>\n",
       "      <th>femaleres</th>\n",
       "      <th>age</th>\n",
       "      <th>married</th>\n",
       "      <th>children</th>\n",
       "      <th>hhsize</th>\n",
       "      <th>edu</th>\n",
       "      <th>hh_children</th>\n",
       "      <th>hh_totalmembers</th>\n",
       "      <th>...</th>\n",
       "      <th>nondurable_investment</th>\n",
       "      <th>given_mpesa</th>\n",
       "      <th>amount_given_mpesa</th>\n",
       "      <th>received_mpesa</th>\n",
       "      <th>amount_received_mpesa</th>\n",
       "      <th>net_mpesa</th>\n",
       "      <th>saved_mpesa</th>\n",
       "      <th>amount_saved_mpesa</th>\n",
       "      <th>early_survey</th>\n",
       "      <th>day_of_week</th>\n",
       "    </tr>\n",
       "    <tr>\n",
       "      <th>depressed</th>\n",
       "      <th></th>\n",
       "      <th></th>\n",
       "      <th></th>\n",
       "      <th></th>\n",
       "      <th></th>\n",
       "      <th></th>\n",
       "      <th></th>\n",
       "      <th></th>\n",
       "      <th></th>\n",
       "      <th></th>\n",
       "      <th></th>\n",
       "      <th></th>\n",
       "      <th></th>\n",
       "      <th></th>\n",
       "      <th></th>\n",
       "      <th></th>\n",
       "      <th></th>\n",
       "      <th></th>\n",
       "      <th></th>\n",
       "      <th></th>\n",
       "      <th></th>\n",
       "    </tr>\n",
       "  </thead>\n",
       "  <tbody>\n",
       "    <tr>\n",
       "      <th>0</th>\n",
       "      <td>727.2</td>\n",
       "      <td>100.4</td>\n",
       "      <td>1.0</td>\n",
       "      <td>31.2</td>\n",
       "      <td>1.0</td>\n",
       "      <td>3.6</td>\n",
       "      <td>6.1</td>\n",
       "      <td>8.5</td>\n",
       "      <td>3.6</td>\n",
       "      <td>6.1</td>\n",
       "      <td>...</td>\n",
       "      <td>18.865438</td>\n",
       "      <td>0.0</td>\n",
       "      <td>0.000000</td>\n",
       "      <td>0.0</td>\n",
       "      <td>0.000000</td>\n",
       "      <td>0.000000</td>\n",
       "      <td>0.2</td>\n",
       "      <td>0.080077</td>\n",
       "      <td>0.1</td>\n",
       "      <td>2.6</td>\n",
       "    </tr>\n",
       "    <tr>\n",
       "      <th>1</th>\n",
       "      <td>556.0</td>\n",
       "      <td>112.5</td>\n",
       "      <td>0.5</td>\n",
       "      <td>34.5</td>\n",
       "      <td>1.0</td>\n",
       "      <td>5.5</td>\n",
       "      <td>7.5</td>\n",
       "      <td>7.5</td>\n",
       "      <td>5.5</td>\n",
       "      <td>7.5</td>\n",
       "      <td>...</td>\n",
       "      <td>41.809013</td>\n",
       "      <td>0.0</td>\n",
       "      <td>2.402306</td>\n",
       "      <td>0.5</td>\n",
       "      <td>8.007684</td>\n",
       "      <td>5.605379</td>\n",
       "      <td>0.0</td>\n",
       "      <td>0.000000</td>\n",
       "      <td>0.0</td>\n",
       "      <td>2.0</td>\n",
       "    </tr>\n",
       "  </tbody>\n",
       "</table>\n",
       "<p>2 rows × 73 columns</p>\n",
       "</div>"
      ],
      "text/plain": [
       "           surveyid  village  femaleres   age  married  children  hhsize  edu  \\\n",
       "depressed                                                                       \n",
       "0             727.2    100.4        1.0  31.2      1.0       3.6     6.1  8.5   \n",
       "1             556.0    112.5        0.5  34.5      1.0       5.5     7.5  7.5   \n",
       "\n",
       "           hh_children  hh_totalmembers  ...  nondurable_investment  \\\n",
       "depressed                                ...                          \n",
       "0                  3.6              6.1  ...              18.865438   \n",
       "1                  5.5              7.5  ...              41.809013   \n",
       "\n",
       "           given_mpesa  amount_given_mpesa  received_mpesa  \\\n",
       "depressed                                                    \n",
       "0                  0.0            0.000000             0.0   \n",
       "1                  0.0            2.402306             0.5   \n",
       "\n",
       "           amount_received_mpesa  net_mpesa  saved_mpesa  amount_saved_mpesa  \\\n",
       "depressed                                                                      \n",
       "0                       0.000000   0.000000          0.2            0.080077   \n",
       "1                       8.007684   5.605379          0.0            0.000000   \n",
       "\n",
       "           early_survey  day_of_week  \n",
       "depressed                             \n",
       "0                   0.1          2.6  \n",
       "1                   0.0          2.0  \n",
       "\n",
       "[2 rows x 73 columns]"
      ]
     },
     "execution_count": 9,
     "metadata": {},
     "output_type": "execute_result"
    }
   ],
   "source": [
    "df_train.groupby('depressed').mean()"
   ]
  },
  {
   "cell_type": "code",
   "execution_count": 10,
   "id": "7b29dca0",
   "metadata": {},
   "outputs": [
    {
     "data": {
      "text/plain": [
       "surveyid                0\n",
       "village                 0\n",
       "survey_date             0\n",
       "femaleres               0\n",
       "age                     1\n",
       "                     ... \n",
       "saved_mpesa             0\n",
       "amount_saved_mpesa      0\n",
       "early_survey            0\n",
       "depressed             282\n",
       "day_of_week             0\n",
       "Length: 75, dtype: int64"
      ]
     },
     "execution_count": 10,
     "metadata": {},
     "output_type": "execute_result"
    }
   ],
   "source": [
    "df_test.isnull().sum()"
   ]
  },
  {
   "cell_type": "code",
   "execution_count": 11,
   "id": "45b5a1bf",
   "metadata": {},
   "outputs": [],
   "source": [
    "df_test.dropna(inplace=True)"
   ]
  },
  {
   "cell_type": "code",
   "execution_count": 12,
   "id": "615639cd",
   "metadata": {},
   "outputs": [
    {
     "data": {
      "text/html": [
       "<div>\n",
       "<style scoped>\n",
       "    .dataframe tbody tr th:only-of-type {\n",
       "        vertical-align: middle;\n",
       "    }\n",
       "\n",
       "    .dataframe tbody tr th {\n",
       "        vertical-align: top;\n",
       "    }\n",
       "\n",
       "    .dataframe thead th {\n",
       "        text-align: right;\n",
       "    }\n",
       "</style>\n",
       "<table border=\"1\" class=\"dataframe\">\n",
       "  <thead>\n",
       "    <tr style=\"text-align: right;\">\n",
       "      <th></th>\n",
       "      <th>surveyid</th>\n",
       "      <th>village</th>\n",
       "      <th>survey_date</th>\n",
       "      <th>femaleres</th>\n",
       "      <th>age</th>\n",
       "      <th>married</th>\n",
       "      <th>children</th>\n",
       "      <th>hhsize</th>\n",
       "      <th>edu</th>\n",
       "      <th>hh_children</th>\n",
       "      <th>...</th>\n",
       "      <th>given_mpesa</th>\n",
       "      <th>amount_given_mpesa</th>\n",
       "      <th>received_mpesa</th>\n",
       "      <th>amount_received_mpesa</th>\n",
       "      <th>net_mpesa</th>\n",
       "      <th>saved_mpesa</th>\n",
       "      <th>amount_saved_mpesa</th>\n",
       "      <th>early_survey</th>\n",
       "      <th>depressed</th>\n",
       "      <th>day_of_week</th>\n",
       "    </tr>\n",
       "  </thead>\n",
       "  <tbody>\n",
       "  </tbody>\n",
       "</table>\n",
       "<p>0 rows × 75 columns</p>\n",
       "</div>"
      ],
      "text/plain": [
       "Empty DataFrame\n",
       "Columns: [surveyid, village, survey_date, femaleres, age, married, children, hhsize, edu, hh_children, hh_totalmembers, cons_nondurable, asset_livestock, asset_durable, asset_phone, asset_savings, asset_land_owned_total, asset_niceroof, cons_allfood, cons_ownfood, cons_alcohol, cons_tobacco, cons_med_total, cons_med_children, cons_ed, cons_social, cons_other, ent_wagelabor, ent_ownfarm, ent_business, ent_nonagbusiness, ent_employees, ent_nonag_revenue, ent_nonag_flowcost, ent_farmrevenue, ent_farmexpenses, ent_animalstockrev, ent_total_cost, fs_adskipm_often, fs_adwholed_often, fs_chskipm_often, fs_chwholed_often, fs_meat, fs_enoughtom, fs_sleephun, med_expenses_hh_ep, med_expenses_sp_ep, med_expenses_child_ep, med_portion_sickinjured, med_port_sick_child, med_afford_port, med_sickdays_hhave, med_healthconsult, med_vacc_newborns, med_child_check, med_u5_deaths, ed_expenses, ed_expenses_perkid, ed_schoolattend, ed_sch_missedpc, ed_work_act_pc, labor_primary, wage_expenditures, durable_investment, nondurable_investment, given_mpesa, amount_given_mpesa, received_mpesa, amount_received_mpesa, net_mpesa, saved_mpesa, amount_saved_mpesa, early_survey, depressed, day_of_week]\n",
       "Index: []\n",
       "\n",
       "[0 rows x 75 columns]"
      ]
     },
     "execution_count": 12,
     "metadata": {},
     "output_type": "execute_result"
    }
   ],
   "source": [
    "df_test.head(10)"
   ]
  },
  {
   "cell_type": "code",
   "execution_count": 13,
   "id": "77374dd4",
   "metadata": {},
   "outputs": [],
   "source": [
    "df_meta=pd.read_csv('13100607_MetaData.csv')"
   ]
  },
  {
   "cell_type": "code",
   "execution_count": 14,
   "id": "8f9c0d9a",
   "metadata": {},
   "outputs": [
    {
     "data": {
      "text/html": [
       "<div>\n",
       "<style scoped>\n",
       "    .dataframe tbody tr th:only-of-type {\n",
       "        vertical-align: middle;\n",
       "    }\n",
       "\n",
       "    .dataframe tbody tr th {\n",
       "        vertical-align: top;\n",
       "    }\n",
       "\n",
       "    .dataframe thead th {\n",
       "        text-align: right;\n",
       "    }\n",
       "</style>\n",
       "<table border=\"1\" class=\"dataframe\">\n",
       "  <thead>\n",
       "    <tr style=\"text-align: right;\">\n",
       "      <th></th>\n",
       "      <th>Cube Title</th>\n",
       "      <th>Product Id</th>\n",
       "      <th>CANSIM Id</th>\n",
       "      <th>URL</th>\n",
       "      <th>Cube Notes</th>\n",
       "      <th>Archive Status</th>\n",
       "      <th>Frequency</th>\n",
       "      <th>Start Reference Period</th>\n",
       "      <th>End Reference Period</th>\n",
       "      <th>Total number of dimensions</th>\n",
       "    </tr>\n",
       "  </thead>\n",
       "  <tbody>\n",
       "    <tr>\n",
       "      <th>0</th>\n",
       "      <td>Probability of depression, by age group and se...</td>\n",
       "      <td>13100607</td>\n",
       "      <td>105-0205</td>\n",
       "      <td>https://www150.statcan.gc.ca/t1/tbl1/en/tv.act...</td>\n",
       "      <td>1;2;3;4;8;9;10;15</td>\n",
       "      <td>ARCHIVED -  a cube publicly available but no l...</td>\n",
       "      <td>Every 2 years</td>\n",
       "      <td>2003-01-01</td>\n",
       "      <td>2003-01-01</td>\n",
       "      <td>5</td>\n",
       "    </tr>\n",
       "    <tr>\n",
       "      <th>1</th>\n",
       "      <td>Dimension ID</td>\n",
       "      <td>Dimension name</td>\n",
       "      <td>Dimension Notes</td>\n",
       "      <td>Dimension Correction Notes</td>\n",
       "      <td>Dimension Definitions</td>\n",
       "      <td>NaN</td>\n",
       "      <td>NaN</td>\n",
       "      <td>NaN</td>\n",
       "      <td>NaN</td>\n",
       "      <td>NaN</td>\n",
       "    </tr>\n",
       "    <tr>\n",
       "      <th>2</th>\n",
       "      <td>1</td>\n",
       "      <td>Geography</td>\n",
       "      <td>4;8;9;10</td>\n",
       "      <td>NaN</td>\n",
       "      <td>NaN</td>\n",
       "      <td>NaN</td>\n",
       "      <td>NaN</td>\n",
       "      <td>NaN</td>\n",
       "      <td>NaN</td>\n",
       "      <td>NaN</td>\n",
       "    </tr>\n",
       "    <tr>\n",
       "      <th>3</th>\n",
       "      <td>2</td>\n",
       "      <td>Age group</td>\n",
       "      <td>NaN</td>\n",
       "      <td>NaN</td>\n",
       "      <td>NaN</td>\n",
       "      <td>NaN</td>\n",
       "      <td>NaN</td>\n",
       "      <td>NaN</td>\n",
       "      <td>NaN</td>\n",
       "      <td>NaN</td>\n",
       "    </tr>\n",
       "    <tr>\n",
       "      <th>4</th>\n",
       "      <td>3</td>\n",
       "      <td>Sex</td>\n",
       "      <td>NaN</td>\n",
       "      <td>NaN</td>\n",
       "      <td>NaN</td>\n",
       "      <td>NaN</td>\n",
       "      <td>NaN</td>\n",
       "      <td>NaN</td>\n",
       "      <td>NaN</td>\n",
       "      <td>NaN</td>\n",
       "    </tr>\n",
       "  </tbody>\n",
       "</table>\n",
       "</div>"
      ],
      "text/plain": [
       "                                          Cube Title      Product Id  \\\n",
       "0  Probability of depression, by age group and se...        13100607   \n",
       "1                                       Dimension ID  Dimension name   \n",
       "2                                                  1       Geography   \n",
       "3                                                  2       Age group   \n",
       "4                                                  3             Sex   \n",
       "\n",
       "         CANSIM Id                                                URL  \\\n",
       "0         105-0205  https://www150.statcan.gc.ca/t1/tbl1/en/tv.act...   \n",
       "1  Dimension Notes                         Dimension Correction Notes   \n",
       "2         4;8;9;10                                                NaN   \n",
       "3              NaN                                                NaN   \n",
       "4              NaN                                                NaN   \n",
       "\n",
       "              Cube Notes                                     Archive Status  \\\n",
       "0      1;2;3;4;8;9;10;15  ARCHIVED -  a cube publicly available but no l...   \n",
       "1  Dimension Definitions                                                NaN   \n",
       "2                    NaN                                                NaN   \n",
       "3                    NaN                                                NaN   \n",
       "4                    NaN                                                NaN   \n",
       "\n",
       "       Frequency Start Reference Period End Reference Period  \\\n",
       "0  Every 2 years             2003-01-01           2003-01-01   \n",
       "1            NaN                    NaN                  NaN   \n",
       "2            NaN                    NaN                  NaN   \n",
       "3            NaN                    NaN                  NaN   \n",
       "4            NaN                    NaN                  NaN   \n",
       "\n",
       "  Total number of dimensions  \n",
       "0                          5  \n",
       "1                        NaN  \n",
       "2                        NaN  \n",
       "3                        NaN  \n",
       "4                        NaN  "
      ]
     },
     "execution_count": 14,
     "metadata": {},
     "output_type": "execute_result"
    }
   ],
   "source": [
    "df_meta.head()"
   ]
  },
  {
   "cell_type": "code",
   "execution_count": 15,
   "id": "160bf6b7",
   "metadata": {},
   "outputs": [
    {
     "data": {
      "text/plain": [
       "(144, 10)"
      ]
     },
     "execution_count": 15,
     "metadata": {},
     "output_type": "execute_result"
    }
   ],
   "source": [
    "df_meta.shape"
   ]
  },
  {
   "cell_type": "code",
   "execution_count": 16,
   "id": "bba72861",
   "metadata": {},
   "outputs": [
    {
     "data": {
      "text/plain": [
       "Index(['Cube Title', 'Product Id', 'CANSIM Id', 'URL', 'Cube Notes',\n",
       "       'Archive Status', 'Frequency', 'Start Reference Period',\n",
       "       'End Reference Period', 'Total number of dimensions'],\n",
       "      dtype='object')"
      ]
     },
     "execution_count": 16,
     "metadata": {},
     "output_type": "execute_result"
    }
   ],
   "source": [
    "df_meta.keys()"
   ]
  },
  {
   "cell_type": "code",
   "execution_count": 17,
   "id": "6d380281",
   "metadata": {},
   "outputs": [
    {
     "data": {
      "text/plain": [
       "Cube Title                      0\n",
       "Product Id                      1\n",
       "CANSIM Id                      67\n",
       "URL                            42\n",
       "Cube Notes                     63\n",
       "Archive Status                142\n",
       "Frequency                     137\n",
       "Start Reference Period        142\n",
       "End Reference Period          142\n",
       "Total number of dimensions    142\n",
       "dtype: int64"
      ]
     },
     "execution_count": 17,
     "metadata": {},
     "output_type": "execute_result"
    }
   ],
   "source": [
    "df_meta.isnull().sum()"
   ]
  },
  {
   "cell_type": "code",
   "execution_count": null,
   "id": "c06a68b0",
   "metadata": {},
   "outputs": [],
   "source": []
  },
  {
   "cell_type": "code",
   "execution_count": 18,
   "id": "64b44405",
   "metadata": {},
   "outputs": [],
   "source": [
    "df0=pd.read_csv('13100607.csv')"
   ]
  },
  {
   "cell_type": "code",
   "execution_count": 19,
   "id": "7d8659ea",
   "metadata": {},
   "outputs": [
    {
     "data": {
      "text/html": [
       "<div>\n",
       "<style scoped>\n",
       "    .dataframe tbody tr th:only-of-type {\n",
       "        vertical-align: middle;\n",
       "    }\n",
       "\n",
       "    .dataframe tbody tr th {\n",
       "        vertical-align: top;\n",
       "    }\n",
       "\n",
       "    .dataframe thead th {\n",
       "        text-align: right;\n",
       "    }\n",
       "</style>\n",
       "<table border=\"1\" class=\"dataframe\">\n",
       "  <thead>\n",
       "    <tr style=\"text-align: right;\">\n",
       "      <th></th>\n",
       "      <th>REF_DATE</th>\n",
       "      <th>GEO</th>\n",
       "      <th>DGUID</th>\n",
       "      <th>Age group</th>\n",
       "      <th>Sex</th>\n",
       "      <th>Probability of depression</th>\n",
       "      <th>Characteristics</th>\n",
       "      <th>UOM</th>\n",
       "      <th>UOM_ID</th>\n",
       "      <th>SCALAR_FACTOR</th>\n",
       "      <th>SCALAR_ID</th>\n",
       "      <th>VECTOR</th>\n",
       "      <th>COORDINATE</th>\n",
       "      <th>VALUE</th>\n",
       "      <th>STATUS</th>\n",
       "      <th>SYMBOL</th>\n",
       "      <th>TERMINATED</th>\n",
       "      <th>DECIMALS</th>\n",
       "    </tr>\n",
       "  </thead>\n",
       "  <tbody>\n",
       "    <tr>\n",
       "      <th>0</th>\n",
       "      <td>2003</td>\n",
       "      <td>Newfoundland and Labrador</td>\n",
       "      <td>10</td>\n",
       "      <td>Total, 12 years and over</td>\n",
       "      <td>Both sexes</td>\n",
       "      <td>Total population for the variable probability ...</td>\n",
       "      <td>Number of persons</td>\n",
       "      <td>Persons</td>\n",
       "      <td>249</td>\n",
       "      <td>units</td>\n",
       "      <td>0</td>\n",
       "      <td>v26656800</td>\n",
       "      <td>2.1.1.1.1</td>\n",
       "      <td>460130.0</td>\n",
       "      <td>NaN</td>\n",
       "      <td>NaN</td>\n",
       "      <td>NaN</td>\n",
       "      <td>0</td>\n",
       "    </tr>\n",
       "    <tr>\n",
       "      <th>1</th>\n",
       "      <td>2003</td>\n",
       "      <td>Newfoundland and Labrador</td>\n",
       "      <td>10</td>\n",
       "      <td>Total, 12 years and over</td>\n",
       "      <td>Both sexes</td>\n",
       "      <td>Total population for the variable probability ...</td>\n",
       "      <td>Low 95% confidence interval, number of persons</td>\n",
       "      <td>Persons</td>\n",
       "      <td>249</td>\n",
       "      <td>units</td>\n",
       "      <td>0</td>\n",
       "      <td>v26656801</td>\n",
       "      <td>2.1.1.1.2</td>\n",
       "      <td>460130.0</td>\n",
       "      <td>NaN</td>\n",
       "      <td>NaN</td>\n",
       "      <td>NaN</td>\n",
       "      <td>0</td>\n",
       "    </tr>\n",
       "    <tr>\n",
       "      <th>2</th>\n",
       "      <td>2003</td>\n",
       "      <td>Newfoundland and Labrador</td>\n",
       "      <td>10</td>\n",
       "      <td>Total, 12 years and over</td>\n",
       "      <td>Both sexes</td>\n",
       "      <td>Total population for the variable probability ...</td>\n",
       "      <td>High 95% confidence interval, number of persons</td>\n",
       "      <td>Persons</td>\n",
       "      <td>249</td>\n",
       "      <td>units</td>\n",
       "      <td>0</td>\n",
       "      <td>v26656802</td>\n",
       "      <td>2.1.1.1.3</td>\n",
       "      <td>460130.0</td>\n",
       "      <td>NaN</td>\n",
       "      <td>NaN</td>\n",
       "      <td>NaN</td>\n",
       "      <td>0</td>\n",
       "    </tr>\n",
       "    <tr>\n",
       "      <th>3</th>\n",
       "      <td>2003</td>\n",
       "      <td>Newfoundland and Labrador</td>\n",
       "      <td>10</td>\n",
       "      <td>Total, 12 years and over</td>\n",
       "      <td>Both sexes</td>\n",
       "      <td>Total population for the variable probability ...</td>\n",
       "      <td>Coefficient of variation for number of persons</td>\n",
       "      <td>Persons</td>\n",
       "      <td>249</td>\n",
       "      <td>units</td>\n",
       "      <td>0</td>\n",
       "      <td>v26656803</td>\n",
       "      <td>2.1.1.1.4</td>\n",
       "      <td>0.0</td>\n",
       "      <td>NaN</td>\n",
       "      <td>NaN</td>\n",
       "      <td>NaN</td>\n",
       "      <td>1</td>\n",
       "    </tr>\n",
       "    <tr>\n",
       "      <th>4</th>\n",
       "      <td>2003</td>\n",
       "      <td>Newfoundland and Labrador</td>\n",
       "      <td>10</td>\n",
       "      <td>Total, 12 years and over</td>\n",
       "      <td>Both sexes</td>\n",
       "      <td>Total population for the variable probability ...</td>\n",
       "      <td>Percent</td>\n",
       "      <td>Percent</td>\n",
       "      <td>239</td>\n",
       "      <td>units</td>\n",
       "      <td>0</td>\n",
       "      <td>v26656804</td>\n",
       "      <td>2.1.1.1.5</td>\n",
       "      <td>100.0</td>\n",
       "      <td>NaN</td>\n",
       "      <td>NaN</td>\n",
       "      <td>NaN</td>\n",
       "      <td>1</td>\n",
       "    </tr>\n",
       "  </tbody>\n",
       "</table>\n",
       "</div>"
      ],
      "text/plain": [
       "   REF_DATE                        GEO  DGUID                 Age group  \\\n",
       "0      2003  Newfoundland and Labrador     10  Total, 12 years and over   \n",
       "1      2003  Newfoundland and Labrador     10  Total, 12 years and over   \n",
       "2      2003  Newfoundland and Labrador     10  Total, 12 years and over   \n",
       "3      2003  Newfoundland and Labrador     10  Total, 12 years and over   \n",
       "4      2003  Newfoundland and Labrador     10  Total, 12 years and over   \n",
       "\n",
       "          Sex                          Probability of depression  \\\n",
       "0  Both sexes  Total population for the variable probability ...   \n",
       "1  Both sexes  Total population for the variable probability ...   \n",
       "2  Both sexes  Total population for the variable probability ...   \n",
       "3  Both sexes  Total population for the variable probability ...   \n",
       "4  Both sexes  Total population for the variable probability ...   \n",
       "\n",
       "                                   Characteristics      UOM  UOM_ID  \\\n",
       "0                                Number of persons  Persons     249   \n",
       "1   Low 95% confidence interval, number of persons  Persons     249   \n",
       "2  High 95% confidence interval, number of persons  Persons     249   \n",
       "3   Coefficient of variation for number of persons  Persons     249   \n",
       "4                                          Percent  Percent     239   \n",
       "\n",
       "  SCALAR_FACTOR  SCALAR_ID     VECTOR COORDINATE     VALUE STATUS  SYMBOL  \\\n",
       "0        units           0  v26656800  2.1.1.1.1  460130.0    NaN     NaN   \n",
       "1        units           0  v26656801  2.1.1.1.2  460130.0    NaN     NaN   \n",
       "2        units           0  v26656802  2.1.1.1.3  460130.0    NaN     NaN   \n",
       "3        units           0  v26656803  2.1.1.1.4       0.0    NaN     NaN   \n",
       "4        units           0  v26656804  2.1.1.1.5     100.0    NaN     NaN   \n",
       "\n",
       "   TERMINATED  DECIMALS  \n",
       "0         NaN         0  \n",
       "1         NaN         0  \n",
       "2         NaN         0  \n",
       "3         NaN         1  \n",
       "4         NaN         1  "
      ]
     },
     "execution_count": 19,
     "metadata": {},
     "output_type": "execute_result"
    }
   ],
   "source": [
    "df0.head()"
   ]
  },
  {
   "cell_type": "code",
   "execution_count": 20,
   "id": "7d11d960",
   "metadata": {},
   "outputs": [
    {
     "data": {
      "text/plain": [
       "(90048, 18)"
      ]
     },
     "execution_count": 20,
     "metadata": {},
     "output_type": "execute_result"
    }
   ],
   "source": [
    "df0.shape"
   ]
  },
  {
   "cell_type": "code",
   "execution_count": 21,
   "id": "d5ef6933",
   "metadata": {},
   "outputs": [
    {
     "data": {
      "text/plain": [
       "REF_DATE                         0\n",
       "GEO                              0\n",
       "DGUID                            0\n",
       "Age group                        0\n",
       "Sex                              0\n",
       "Probability of depression        0\n",
       "Characteristics                  0\n",
       "UOM                              0\n",
       "UOM_ID                           0\n",
       "SCALAR_FACTOR                    0\n",
       "SCALAR_ID                        0\n",
       "VECTOR                           0\n",
       "COORDINATE                       0\n",
       "VALUE                        36044\n",
       "STATUS                       42872\n",
       "SYMBOL                       90048\n",
       "TERMINATED                   90048\n",
       "DECIMALS                         0\n",
       "dtype: int64"
      ]
     },
     "execution_count": 21,
     "metadata": {},
     "output_type": "execute_result"
    }
   ],
   "source": [
    "df0.isnull().sum()"
   ]
  },
  {
   "cell_type": "code",
   "execution_count": 22,
   "id": "cfe9d6b7",
   "metadata": {},
   "outputs": [
    {
     "data": {
      "text/plain": [
       "Index(['REF_DATE', 'GEO', 'DGUID', 'Age group', 'Sex',\n",
       "       'Probability of depression', 'Characteristics', 'UOM', 'UOM_ID',\n",
       "       'SCALAR_FACTOR', 'SCALAR_ID', 'VECTOR', 'COORDINATE', 'VALUE', 'STATUS',\n",
       "       'SYMBOL', 'TERMINATED', 'DECIMALS'],\n",
       "      dtype='object')"
      ]
     },
     "execution_count": 22,
     "metadata": {},
     "output_type": "execute_result"
    }
   ],
   "source": [
    "df0.keys()"
   ]
  },
  {
   "cell_type": "markdown",
   "id": "607ca470",
   "metadata": {},
   "source": [
    "## Separating the features and target"
   ]
  },
  {
   "cell_type": "code",
   "execution_count": 28,
   "id": "0809c38a",
   "metadata": {},
   "outputs": [],
   "source": [
    "x=df_train.drop(columns='depressed',axis=1)\n",
    "y=df_train['depressed']"
   ]
  },
  {
   "cell_type": "code",
   "execution_count": 29,
   "id": "c688f5df",
   "metadata": {},
   "outputs": [
    {
     "name": "stdout",
     "output_type": "stream",
     "text": [
      "      surveyid  village survey_date  femaleres   age  married  children  \\\n",
      "22         137        9   21-Jul-60          1  34.0        1         3   \n",
      "43         122       22   16-Nov-61          1  18.0        1         2   \n",
      "74         277       57   14-Nov-61          1  30.0        1         6   \n",
      "127       1372      228   23-Oct-61          1  27.0        1         4   \n",
      "269        653       42   03-Oct-61          1  33.0        1         2   \n",
      "446       1327      201   30-Oct-61          1  35.0        1         6   \n",
      "625        227       48   14-Nov-61          1  22.0        1         4   \n",
      "761       1137      106   18-Sep-61          1  47.0        1         4   \n",
      "1025       799      133   22-Oct-61          1  49.0        1         5   \n",
      "1039       654       42   16-Oct-61          1  27.0        1         3   \n",
      "1070       844      173   12-Nov-61          1  20.0        1         3   \n",
      "1081       835      168   12-Nov-61          0  39.0        1         5   \n",
      "\n",
      "      hhsize  edu  hh_children  ...  nondurable_investment  given_mpesa  \\\n",
      "22         5   10            3  ...               2.655882            0   \n",
      "43         3    9            2  ...               4.190688            0   \n",
      "74         8    7            6  ...              37.814068            0   \n",
      "127        7   10            4  ...              26.018301            0   \n",
      "269        4    7            2  ...              22.474903            0   \n",
      "446        8   10            6  ...              17.227644            0   \n",
      "625        7    9            4  ...               7.151308            0   \n",
      "761        7    1            4  ...               6.739801            0   \n",
      "1025       7   13            5  ...              44.409286            0   \n",
      "1039       6    7            3  ...              11.575554            0   \n",
      "1070       7    9            3  ...              46.211014            0   \n",
      "1081       7    8            5  ...              45.803959            0   \n",
      "\n",
      "      amount_given_mpesa  received_mpesa  amount_received_mpesa  net_mpesa  \\\n",
      "22              0.000000               0               0.000000   0.000000   \n",
      "43              0.000000               0               0.000000   0.000000   \n",
      "74              4.804611               1              16.015369  11.210759   \n",
      "127             0.000000               0               0.000000   0.000000   \n",
      "269             0.000000               0               0.000000   0.000000   \n",
      "446             0.000000               0               0.000000   0.000000   \n",
      "625             0.000000               0               0.000000   0.000000   \n",
      "761             0.000000               0               0.000000   0.000000   \n",
      "1025            0.000000               0               0.000000   0.000000   \n",
      "1039            0.000000               0               0.000000   0.000000   \n",
      "1070            0.000000               0               0.000000   0.000000   \n",
      "1081            0.000000               0               0.000000   0.000000   \n",
      "\n",
      "      saved_mpesa  amount_saved_mpesa  early_survey  day_of_week  \n",
      "22              0            0.000000             1            5  \n",
      "43              0            0.000000             0            5  \n",
      "74              0            0.000000             0            3  \n",
      "127             1            0.800768             0            2  \n",
      "269             0            0.000000             0            3  \n",
      "446             0            0.000000             0            2  \n",
      "625             0            0.000000             0            3  \n",
      "761             1            0.000000             0            2  \n",
      "1025            0            0.000000             0            1  \n",
      "1039            0            0.000000             0            2  \n",
      "1070            0            0.000000             0            1  \n",
      "1081            0            0.000000             0            1  \n",
      "\n",
      "[12 rows x 74 columns]\n"
     ]
    }
   ],
   "source": [
    "print(x)"
   ]
  },
  {
   "cell_type": "code",
   "execution_count": 42,
   "id": "4bcd7eae",
   "metadata": {},
   "outputs": [
    {
     "name": "stdout",
     "output_type": "stream",
     "text": [
      "22      0\n",
      "43      0\n",
      "74      1\n",
      "127     0\n",
      "269     0\n",
      "446     0\n",
      "625     0\n",
      "761     0\n",
      "1025    0\n",
      "1039    0\n",
      "1070    0\n",
      "1081    1\n",
      "Name: depressed, dtype: int64\n"
     ]
    }
   ],
   "source": [
    "print(y)"
   ]
  },
  {
   "cell_type": "markdown",
   "id": "1dd17d0f",
   "metadata": {},
   "source": [
    "## Spilting the data into training data and testing data"
   ]
  },
  {
   "cell_type": "code",
   "execution_count": 44,
   "id": "79d01a03",
   "metadata": {},
   "outputs": [],
   "source": [
    "X_train, X_test, y_train, y_test = train_test_split(x, y, test_size=0.5, random_state=0)"
   ]
  },
  {
   "cell_type": "code",
   "execution_count": 45,
   "id": "f1598c8c",
   "metadata": {},
   "outputs": [
    {
     "name": "stdout",
     "output_type": "stream",
     "text": [
      "(12, 74) (6, 74) (6, 74)\n"
     ]
    }
   ],
   "source": [
    "print(x.shape,X_test.shape,X_train.shape)"
   ]
  },
  {
   "cell_type": "code",
   "execution_count": 46,
   "id": "86bcc291",
   "metadata": {},
   "outputs": [
    {
     "name": "stdout",
     "output_type": "stream",
     "text": [
      "43      0\n",
      "761     0\n",
      "1039    0\n",
      "127     0\n",
      "22      0\n",
      "446     0\n",
      "Name: depressed, dtype: int64\n"
     ]
    }
   ],
   "source": [
    "print(y_train)"
   ]
  },
  {
   "cell_type": "markdown",
   "id": "fe56da5b",
   "metadata": {},
   "source": [
    "## Model Training"
   ]
  },
  {
   "cell_type": "markdown",
   "id": "8e503d3f",
   "metadata": {},
   "source": [
    "## Naive Bayes Theorem"
   ]
  },
  {
   "cell_type": "code",
   "execution_count": 36,
   "id": "7db9b119",
   "metadata": {},
   "outputs": [],
   "source": [
    "model = GaussianNB() "
   ]
  },
  {
   "cell_type": "code",
   "execution_count": 41,
   "id": "359b5884",
   "metadata": {},
   "outputs": [
    {
     "ename": "ValueError",
     "evalue": "could not convert string to float: '18-Sep-61'",
     "output_type": "error",
     "traceback": [
      "\u001b[1;31m---------------------------------------------------------------------------\u001b[0m",
      "\u001b[1;31mValueError\u001b[0m                                Traceback (most recent call last)",
      "Cell \u001b[1;32mIn[41], line 1\u001b[0m\n\u001b[1;32m----> 1\u001b[0m y_pred \u001b[38;5;241m=\u001b[39m \u001b[43mmodel\u001b[49m\u001b[38;5;241;43m.\u001b[39;49m\u001b[43mfit\u001b[49m\u001b[43m(\u001b[49m\u001b[43mx_train\u001b[49m\u001b[43m,\u001b[49m\u001b[43m \u001b[49m\u001b[43my_train\u001b[49m\u001b[43m)\u001b[49m\u001b[38;5;241m.\u001b[39mpredict(X_test)\n",
      "File \u001b[1;32m~\\AppData\\Local\\Programs\\Python\\Python311\\Lib\\site-packages\\sklearn\\naive_bayes.py:267\u001b[0m, in \u001b[0;36mGaussianNB.fit\u001b[1;34m(self, X, y, sample_weight)\u001b[0m\n\u001b[0;32m    265\u001b[0m \u001b[38;5;28mself\u001b[39m\u001b[38;5;241m.\u001b[39m_validate_params()\n\u001b[0;32m    266\u001b[0m y \u001b[38;5;241m=\u001b[39m \u001b[38;5;28mself\u001b[39m\u001b[38;5;241m.\u001b[39m_validate_data(y\u001b[38;5;241m=\u001b[39my)\n\u001b[1;32m--> 267\u001b[0m \u001b[38;5;28;01mreturn\u001b[39;00m \u001b[38;5;28;43mself\u001b[39;49m\u001b[38;5;241;43m.\u001b[39;49m\u001b[43m_partial_fit\u001b[49m\u001b[43m(\u001b[49m\n\u001b[0;32m    268\u001b[0m \u001b[43m    \u001b[49m\u001b[43mX\u001b[49m\u001b[43m,\u001b[49m\u001b[43m \u001b[49m\u001b[43my\u001b[49m\u001b[43m,\u001b[49m\u001b[43m \u001b[49m\u001b[43mnp\u001b[49m\u001b[38;5;241;43m.\u001b[39;49m\u001b[43munique\u001b[49m\u001b[43m(\u001b[49m\u001b[43my\u001b[49m\u001b[43m)\u001b[49m\u001b[43m,\u001b[49m\u001b[43m \u001b[49m\u001b[43m_refit\u001b[49m\u001b[38;5;241;43m=\u001b[39;49m\u001b[38;5;28;43;01mTrue\u001b[39;49;00m\u001b[43m,\u001b[49m\u001b[43m \u001b[49m\u001b[43msample_weight\u001b[49m\u001b[38;5;241;43m=\u001b[39;49m\u001b[43msample_weight\u001b[49m\n\u001b[0;32m    269\u001b[0m \u001b[43m\u001b[49m\u001b[43m)\u001b[49m\n",
      "File \u001b[1;32m~\\AppData\\Local\\Programs\\Python\\Python311\\Lib\\site-packages\\sklearn\\naive_bayes.py:426\u001b[0m, in \u001b[0;36mGaussianNB._partial_fit\u001b[1;34m(self, X, y, classes, _refit, sample_weight)\u001b[0m\n\u001b[0;32m    423\u001b[0m     \u001b[38;5;28mself\u001b[39m\u001b[38;5;241m.\u001b[39mclasses_ \u001b[38;5;241m=\u001b[39m \u001b[38;5;28;01mNone\u001b[39;00m\n\u001b[0;32m    425\u001b[0m first_call \u001b[38;5;241m=\u001b[39m _check_partial_fit_first_call(\u001b[38;5;28mself\u001b[39m, classes)\n\u001b[1;32m--> 426\u001b[0m X, y \u001b[38;5;241m=\u001b[39m \u001b[38;5;28;43mself\u001b[39;49m\u001b[38;5;241;43m.\u001b[39;49m\u001b[43m_validate_data\u001b[49m\u001b[43m(\u001b[49m\u001b[43mX\u001b[49m\u001b[43m,\u001b[49m\u001b[43m \u001b[49m\u001b[43my\u001b[49m\u001b[43m,\u001b[49m\u001b[43m \u001b[49m\u001b[43mreset\u001b[49m\u001b[38;5;241;43m=\u001b[39;49m\u001b[43mfirst_call\u001b[49m\u001b[43m)\u001b[49m\n\u001b[0;32m    427\u001b[0m \u001b[38;5;28;01mif\u001b[39;00m sample_weight \u001b[38;5;129;01mis\u001b[39;00m \u001b[38;5;129;01mnot\u001b[39;00m \u001b[38;5;28;01mNone\u001b[39;00m:\n\u001b[0;32m    428\u001b[0m     sample_weight \u001b[38;5;241m=\u001b[39m _check_sample_weight(sample_weight, X)\n",
      "File \u001b[1;32m~\\AppData\\Local\\Programs\\Python\\Python311\\Lib\\site-packages\\sklearn\\base.py:554\u001b[0m, in \u001b[0;36mBaseEstimator._validate_data\u001b[1;34m(self, X, y, reset, validate_separately, **check_params)\u001b[0m\n\u001b[0;32m    552\u001b[0m         y \u001b[38;5;241m=\u001b[39m check_array(y, input_name\u001b[38;5;241m=\u001b[39m\u001b[38;5;124m\"\u001b[39m\u001b[38;5;124my\u001b[39m\u001b[38;5;124m\"\u001b[39m, \u001b[38;5;241m*\u001b[39m\u001b[38;5;241m*\u001b[39mcheck_y_params)\n\u001b[0;32m    553\u001b[0m     \u001b[38;5;28;01melse\u001b[39;00m:\n\u001b[1;32m--> 554\u001b[0m         X, y \u001b[38;5;241m=\u001b[39m \u001b[43mcheck_X_y\u001b[49m\u001b[43m(\u001b[49m\u001b[43mX\u001b[49m\u001b[43m,\u001b[49m\u001b[43m \u001b[49m\u001b[43my\u001b[49m\u001b[43m,\u001b[49m\u001b[43m \u001b[49m\u001b[38;5;241;43m*\u001b[39;49m\u001b[38;5;241;43m*\u001b[39;49m\u001b[43mcheck_params\u001b[49m\u001b[43m)\u001b[49m\n\u001b[0;32m    555\u001b[0m     out \u001b[38;5;241m=\u001b[39m X, y\n\u001b[0;32m    557\u001b[0m \u001b[38;5;28;01mif\u001b[39;00m \u001b[38;5;129;01mnot\u001b[39;00m no_val_X \u001b[38;5;129;01mand\u001b[39;00m check_params\u001b[38;5;241m.\u001b[39mget(\u001b[38;5;124m\"\u001b[39m\u001b[38;5;124mensure_2d\u001b[39m\u001b[38;5;124m\"\u001b[39m, \u001b[38;5;28;01mTrue\u001b[39;00m):\n",
      "File \u001b[1;32m~\\AppData\\Local\\Programs\\Python\\Python311\\Lib\\site-packages\\sklearn\\utils\\validation.py:1104\u001b[0m, in \u001b[0;36mcheck_X_y\u001b[1;34m(X, y, accept_sparse, accept_large_sparse, dtype, order, copy, force_all_finite, ensure_2d, allow_nd, multi_output, ensure_min_samples, ensure_min_features, y_numeric, estimator)\u001b[0m\n\u001b[0;32m   1099\u001b[0m         estimator_name \u001b[38;5;241m=\u001b[39m _check_estimator_name(estimator)\n\u001b[0;32m   1100\u001b[0m     \u001b[38;5;28;01mraise\u001b[39;00m \u001b[38;5;167;01mValueError\u001b[39;00m(\n\u001b[0;32m   1101\u001b[0m         \u001b[38;5;124mf\u001b[39m\u001b[38;5;124m\"\u001b[39m\u001b[38;5;132;01m{\u001b[39;00mestimator_name\u001b[38;5;132;01m}\u001b[39;00m\u001b[38;5;124m requires y to be passed, but the target y is None\u001b[39m\u001b[38;5;124m\"\u001b[39m\n\u001b[0;32m   1102\u001b[0m     )\n\u001b[1;32m-> 1104\u001b[0m X \u001b[38;5;241m=\u001b[39m \u001b[43mcheck_array\u001b[49m\u001b[43m(\u001b[49m\n\u001b[0;32m   1105\u001b[0m \u001b[43m    \u001b[49m\u001b[43mX\u001b[49m\u001b[43m,\u001b[49m\n\u001b[0;32m   1106\u001b[0m \u001b[43m    \u001b[49m\u001b[43maccept_sparse\u001b[49m\u001b[38;5;241;43m=\u001b[39;49m\u001b[43maccept_sparse\u001b[49m\u001b[43m,\u001b[49m\n\u001b[0;32m   1107\u001b[0m \u001b[43m    \u001b[49m\u001b[43maccept_large_sparse\u001b[49m\u001b[38;5;241;43m=\u001b[39;49m\u001b[43maccept_large_sparse\u001b[49m\u001b[43m,\u001b[49m\n\u001b[0;32m   1108\u001b[0m \u001b[43m    \u001b[49m\u001b[43mdtype\u001b[49m\u001b[38;5;241;43m=\u001b[39;49m\u001b[43mdtype\u001b[49m\u001b[43m,\u001b[49m\n\u001b[0;32m   1109\u001b[0m \u001b[43m    \u001b[49m\u001b[43morder\u001b[49m\u001b[38;5;241;43m=\u001b[39;49m\u001b[43morder\u001b[49m\u001b[43m,\u001b[49m\n\u001b[0;32m   1110\u001b[0m \u001b[43m    \u001b[49m\u001b[43mcopy\u001b[49m\u001b[38;5;241;43m=\u001b[39;49m\u001b[43mcopy\u001b[49m\u001b[43m,\u001b[49m\n\u001b[0;32m   1111\u001b[0m \u001b[43m    \u001b[49m\u001b[43mforce_all_finite\u001b[49m\u001b[38;5;241;43m=\u001b[39;49m\u001b[43mforce_all_finite\u001b[49m\u001b[43m,\u001b[49m\n\u001b[0;32m   1112\u001b[0m \u001b[43m    \u001b[49m\u001b[43mensure_2d\u001b[49m\u001b[38;5;241;43m=\u001b[39;49m\u001b[43mensure_2d\u001b[49m\u001b[43m,\u001b[49m\n\u001b[0;32m   1113\u001b[0m \u001b[43m    \u001b[49m\u001b[43mallow_nd\u001b[49m\u001b[38;5;241;43m=\u001b[39;49m\u001b[43mallow_nd\u001b[49m\u001b[43m,\u001b[49m\n\u001b[0;32m   1114\u001b[0m \u001b[43m    \u001b[49m\u001b[43mensure_min_samples\u001b[49m\u001b[38;5;241;43m=\u001b[39;49m\u001b[43mensure_min_samples\u001b[49m\u001b[43m,\u001b[49m\n\u001b[0;32m   1115\u001b[0m \u001b[43m    \u001b[49m\u001b[43mensure_min_features\u001b[49m\u001b[38;5;241;43m=\u001b[39;49m\u001b[43mensure_min_features\u001b[49m\u001b[43m,\u001b[49m\n\u001b[0;32m   1116\u001b[0m \u001b[43m    \u001b[49m\u001b[43mestimator\u001b[49m\u001b[38;5;241;43m=\u001b[39;49m\u001b[43mestimator\u001b[49m\u001b[43m,\u001b[49m\n\u001b[0;32m   1117\u001b[0m \u001b[43m    \u001b[49m\u001b[43minput_name\u001b[49m\u001b[38;5;241;43m=\u001b[39;49m\u001b[38;5;124;43m\"\u001b[39;49m\u001b[38;5;124;43mX\u001b[39;49m\u001b[38;5;124;43m\"\u001b[39;49m\u001b[43m,\u001b[49m\n\u001b[0;32m   1118\u001b[0m \u001b[43m\u001b[49m\u001b[43m)\u001b[49m\n\u001b[0;32m   1120\u001b[0m y \u001b[38;5;241m=\u001b[39m _check_y(y, multi_output\u001b[38;5;241m=\u001b[39mmulti_output, y_numeric\u001b[38;5;241m=\u001b[39my_numeric, estimator\u001b[38;5;241m=\u001b[39mestimator)\n\u001b[0;32m   1122\u001b[0m check_consistent_length(X, y)\n",
      "File \u001b[1;32m~\\AppData\\Local\\Programs\\Python\\Python311\\Lib\\site-packages\\sklearn\\utils\\validation.py:877\u001b[0m, in \u001b[0;36mcheck_array\u001b[1;34m(array, accept_sparse, accept_large_sparse, dtype, order, copy, force_all_finite, ensure_2d, allow_nd, ensure_min_samples, ensure_min_features, estimator, input_name)\u001b[0m\n\u001b[0;32m    875\u001b[0m         array \u001b[38;5;241m=\u001b[39m xp\u001b[38;5;241m.\u001b[39mastype(array, dtype, copy\u001b[38;5;241m=\u001b[39m\u001b[38;5;28;01mFalse\u001b[39;00m)\n\u001b[0;32m    876\u001b[0m     \u001b[38;5;28;01melse\u001b[39;00m:\n\u001b[1;32m--> 877\u001b[0m         array \u001b[38;5;241m=\u001b[39m \u001b[43m_asarray_with_order\u001b[49m\u001b[43m(\u001b[49m\u001b[43marray\u001b[49m\u001b[43m,\u001b[49m\u001b[43m \u001b[49m\u001b[43morder\u001b[49m\u001b[38;5;241;43m=\u001b[39;49m\u001b[43morder\u001b[49m\u001b[43m,\u001b[49m\u001b[43m \u001b[49m\u001b[43mdtype\u001b[49m\u001b[38;5;241;43m=\u001b[39;49m\u001b[43mdtype\u001b[49m\u001b[43m,\u001b[49m\u001b[43m \u001b[49m\u001b[43mxp\u001b[49m\u001b[38;5;241;43m=\u001b[39;49m\u001b[43mxp\u001b[49m\u001b[43m)\u001b[49m\n\u001b[0;32m    878\u001b[0m \u001b[38;5;28;01mexcept\u001b[39;00m ComplexWarning \u001b[38;5;28;01mas\u001b[39;00m complex_warning:\n\u001b[0;32m    879\u001b[0m     \u001b[38;5;28;01mraise\u001b[39;00m \u001b[38;5;167;01mValueError\u001b[39;00m(\n\u001b[0;32m    880\u001b[0m         \u001b[38;5;124m\"\u001b[39m\u001b[38;5;124mComplex data not supported\u001b[39m\u001b[38;5;130;01m\\n\u001b[39;00m\u001b[38;5;132;01m{}\u001b[39;00m\u001b[38;5;130;01m\\n\u001b[39;00m\u001b[38;5;124m\"\u001b[39m\u001b[38;5;241m.\u001b[39mformat(array)\n\u001b[0;32m    881\u001b[0m     ) \u001b[38;5;28;01mfrom\u001b[39;00m \u001b[38;5;21;01mcomplex_warning\u001b[39;00m\n",
      "File \u001b[1;32m~\\AppData\\Local\\Programs\\Python\\Python311\\Lib\\site-packages\\sklearn\\utils\\_array_api.py:185\u001b[0m, in \u001b[0;36m_asarray_with_order\u001b[1;34m(array, dtype, order, copy, xp)\u001b[0m\n\u001b[0;32m    182\u001b[0m     xp, _ \u001b[38;5;241m=\u001b[39m get_namespace(array)\n\u001b[0;32m    183\u001b[0m \u001b[38;5;28;01mif\u001b[39;00m xp\u001b[38;5;241m.\u001b[39m\u001b[38;5;18m__name__\u001b[39m \u001b[38;5;129;01min\u001b[39;00m {\u001b[38;5;124m\"\u001b[39m\u001b[38;5;124mnumpy\u001b[39m\u001b[38;5;124m\"\u001b[39m, \u001b[38;5;124m\"\u001b[39m\u001b[38;5;124mnumpy.array_api\u001b[39m\u001b[38;5;124m\"\u001b[39m}:\n\u001b[0;32m    184\u001b[0m     \u001b[38;5;66;03m# Use NumPy API to support order\u001b[39;00m\n\u001b[1;32m--> 185\u001b[0m     array \u001b[38;5;241m=\u001b[39m \u001b[43mnumpy\u001b[49m\u001b[38;5;241;43m.\u001b[39;49m\u001b[43masarray\u001b[49m\u001b[43m(\u001b[49m\u001b[43marray\u001b[49m\u001b[43m,\u001b[49m\u001b[43m \u001b[49m\u001b[43morder\u001b[49m\u001b[38;5;241;43m=\u001b[39;49m\u001b[43morder\u001b[49m\u001b[43m,\u001b[49m\u001b[43m \u001b[49m\u001b[43mdtype\u001b[49m\u001b[38;5;241;43m=\u001b[39;49m\u001b[43mdtype\u001b[49m\u001b[43m)\u001b[49m\n\u001b[0;32m    186\u001b[0m     \u001b[38;5;28;01mreturn\u001b[39;00m xp\u001b[38;5;241m.\u001b[39masarray(array, copy\u001b[38;5;241m=\u001b[39mcopy)\n\u001b[0;32m    187\u001b[0m \u001b[38;5;28;01melse\u001b[39;00m:\n",
      "File \u001b[1;32m~\\AppData\\Local\\Programs\\Python\\Python311\\Lib\\site-packages\\pandas\\core\\generic.py:2070\u001b[0m, in \u001b[0;36mNDFrame.__array__\u001b[1;34m(self, dtype)\u001b[0m\n\u001b[0;32m   2069\u001b[0m \u001b[38;5;28;01mdef\u001b[39;00m \u001b[38;5;21m__array__\u001b[39m(\u001b[38;5;28mself\u001b[39m, dtype: npt\u001b[38;5;241m.\u001b[39mDTypeLike \u001b[38;5;241m|\u001b[39m \u001b[38;5;28;01mNone\u001b[39;00m \u001b[38;5;241m=\u001b[39m \u001b[38;5;28;01mNone\u001b[39;00m) \u001b[38;5;241m-\u001b[39m\u001b[38;5;241m>\u001b[39m np\u001b[38;5;241m.\u001b[39mndarray:\n\u001b[1;32m-> 2070\u001b[0m     \u001b[38;5;28;01mreturn\u001b[39;00m \u001b[43mnp\u001b[49m\u001b[38;5;241;43m.\u001b[39;49m\u001b[43masarray\u001b[49m\u001b[43m(\u001b[49m\u001b[38;5;28;43mself\u001b[39;49m\u001b[38;5;241;43m.\u001b[39;49m\u001b[43m_values\u001b[49m\u001b[43m,\u001b[49m\u001b[43m \u001b[49m\u001b[43mdtype\u001b[49m\u001b[38;5;241;43m=\u001b[39;49m\u001b[43mdtype\u001b[49m\u001b[43m)\u001b[49m\n",
      "\u001b[1;31mValueError\u001b[0m: could not convert string to float: '18-Sep-61'"
     ]
    }
   ],
   "source": [
    " y_pred = model.fit(x_train, y_train).predict(X_test)"
   ]
  },
  {
   "cell_type": "code",
   "execution_count": null,
   "id": "4d017fab",
   "metadata": {},
   "outputs": [],
   "source": []
  }
 ],
 "metadata": {
  "kernelspec": {
   "display_name": "Python 3 (ipykernel)",
   "language": "python",
   "name": "python3"
  },
  "language_info": {
   "codemirror_mode": {
    "name": "ipython",
    "version": 3
   },
   "file_extension": ".py",
   "mimetype": "text/x-python",
   "name": "python",
   "nbconvert_exporter": "python",
   "pygments_lexer": "ipython3",
   "version": "3.11.1"
  }
 },
 "nbformat": 4,
 "nbformat_minor": 5
}

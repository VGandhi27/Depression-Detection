{
 "cells": [
  {
   "cell_type": "code",
   "execution_count": 1,
   "id": "5a3801ee",
   "metadata": {},
   "outputs": [],
   "source": [
    "import numpy as np\n",
    "import pandas as pd\n",
    "from matplotlib import pyplot as py\n",
    "from sklearn.model_selection import train_test_split\n",
    "from sklearn.naive_bayes import GaussianNB\n",
    "from sklearn.metrics import accuracy_score\n",
    "import seaborn as sns"
   ]
  },
  {
   "cell_type": "code",
   "execution_count": 2,
   "id": "d7358be2",
   "metadata": {},
   "outputs": [],
   "source": [
    "df=pd.read_csv('13100607.csv')\n",
    "df_meta=pd.read_csv('13100607_MetaData.csv')"
   ]
  },
  {
   "cell_type": "code",
   "execution_count": 3,
   "id": "a2e24de6",
   "metadata": {},
   "outputs": [
    {
     "data": {
      "text/html": [
       "<div>\n",
       "<style scoped>\n",
       "    .dataframe tbody tr th:only-of-type {\n",
       "        vertical-align: middle;\n",
       "    }\n",
       "\n",
       "    .dataframe tbody tr th {\n",
       "        vertical-align: top;\n",
       "    }\n",
       "\n",
       "    .dataframe thead th {\n",
       "        text-align: right;\n",
       "    }\n",
       "</style>\n",
       "<table border=\"1\" class=\"dataframe\">\n",
       "  <thead>\n",
       "    <tr style=\"text-align: right;\">\n",
       "      <th></th>\n",
       "      <th>REF_DATE</th>\n",
       "      <th>GEO</th>\n",
       "      <th>DGUID</th>\n",
       "      <th>Age group</th>\n",
       "      <th>Sex</th>\n",
       "      <th>Probability of depression</th>\n",
       "      <th>Characteristics</th>\n",
       "      <th>UOM</th>\n",
       "      <th>UOM_ID</th>\n",
       "      <th>SCALAR_FACTOR</th>\n",
       "      <th>SCALAR_ID</th>\n",
       "      <th>VECTOR</th>\n",
       "      <th>COORDINATE</th>\n",
       "      <th>VALUE</th>\n",
       "      <th>STATUS</th>\n",
       "      <th>SYMBOL</th>\n",
       "      <th>TERMINATED</th>\n",
       "      <th>DECIMALS</th>\n",
       "    </tr>\n",
       "  </thead>\n",
       "  <tbody>\n",
       "    <tr>\n",
       "      <th>0</th>\n",
       "      <td>2003</td>\n",
       "      <td>Newfoundland and Labrador</td>\n",
       "      <td>10</td>\n",
       "      <td>Total, 12 years and over</td>\n",
       "      <td>Both sexes</td>\n",
       "      <td>Total population for the variable probability ...</td>\n",
       "      <td>Number of persons</td>\n",
       "      <td>Persons</td>\n",
       "      <td>249</td>\n",
       "      <td>units</td>\n",
       "      <td>0</td>\n",
       "      <td>v26656800</td>\n",
       "      <td>2.1.1.1.1</td>\n",
       "      <td>460130.0</td>\n",
       "      <td>NaN</td>\n",
       "      <td>NaN</td>\n",
       "      <td>NaN</td>\n",
       "      <td>0</td>\n",
       "    </tr>\n",
       "    <tr>\n",
       "      <th>1</th>\n",
       "      <td>2003</td>\n",
       "      <td>Newfoundland and Labrador</td>\n",
       "      <td>10</td>\n",
       "      <td>Total, 12 years and over</td>\n",
       "      <td>Both sexes</td>\n",
       "      <td>Total population for the variable probability ...</td>\n",
       "      <td>Low 95% confidence interval, number of persons</td>\n",
       "      <td>Persons</td>\n",
       "      <td>249</td>\n",
       "      <td>units</td>\n",
       "      <td>0</td>\n",
       "      <td>v26656801</td>\n",
       "      <td>2.1.1.1.2</td>\n",
       "      <td>460130.0</td>\n",
       "      <td>NaN</td>\n",
       "      <td>NaN</td>\n",
       "      <td>NaN</td>\n",
       "      <td>0</td>\n",
       "    </tr>\n",
       "    <tr>\n",
       "      <th>2</th>\n",
       "      <td>2003</td>\n",
       "      <td>Newfoundland and Labrador</td>\n",
       "      <td>10</td>\n",
       "      <td>Total, 12 years and over</td>\n",
       "      <td>Both sexes</td>\n",
       "      <td>Total population for the variable probability ...</td>\n",
       "      <td>High 95% confidence interval, number of persons</td>\n",
       "      <td>Persons</td>\n",
       "      <td>249</td>\n",
       "      <td>units</td>\n",
       "      <td>0</td>\n",
       "      <td>v26656802</td>\n",
       "      <td>2.1.1.1.3</td>\n",
       "      <td>460130.0</td>\n",
       "      <td>NaN</td>\n",
       "      <td>NaN</td>\n",
       "      <td>NaN</td>\n",
       "      <td>0</td>\n",
       "    </tr>\n",
       "    <tr>\n",
       "      <th>3</th>\n",
       "      <td>2003</td>\n",
       "      <td>Newfoundland and Labrador</td>\n",
       "      <td>10</td>\n",
       "      <td>Total, 12 years and over</td>\n",
       "      <td>Both sexes</td>\n",
       "      <td>Total population for the variable probability ...</td>\n",
       "      <td>Coefficient of variation for number of persons</td>\n",
       "      <td>Persons</td>\n",
       "      <td>249</td>\n",
       "      <td>units</td>\n",
       "      <td>0</td>\n",
       "      <td>v26656803</td>\n",
       "      <td>2.1.1.1.4</td>\n",
       "      <td>0.0</td>\n",
       "      <td>NaN</td>\n",
       "      <td>NaN</td>\n",
       "      <td>NaN</td>\n",
       "      <td>1</td>\n",
       "    </tr>\n",
       "    <tr>\n",
       "      <th>4</th>\n",
       "      <td>2003</td>\n",
       "      <td>Newfoundland and Labrador</td>\n",
       "      <td>10</td>\n",
       "      <td>Total, 12 years and over</td>\n",
       "      <td>Both sexes</td>\n",
       "      <td>Total population for the variable probability ...</td>\n",
       "      <td>Percent</td>\n",
       "      <td>Percent</td>\n",
       "      <td>239</td>\n",
       "      <td>units</td>\n",
       "      <td>0</td>\n",
       "      <td>v26656804</td>\n",
       "      <td>2.1.1.1.5</td>\n",
       "      <td>100.0</td>\n",
       "      <td>NaN</td>\n",
       "      <td>NaN</td>\n",
       "      <td>NaN</td>\n",
       "      <td>1</td>\n",
       "    </tr>\n",
       "  </tbody>\n",
       "</table>\n",
       "</div>"
      ],
      "text/plain": [
       "   REF_DATE                        GEO  DGUID                 Age group  \\\n",
       "0      2003  Newfoundland and Labrador     10  Total, 12 years and over   \n",
       "1      2003  Newfoundland and Labrador     10  Total, 12 years and over   \n",
       "2      2003  Newfoundland and Labrador     10  Total, 12 years and over   \n",
       "3      2003  Newfoundland and Labrador     10  Total, 12 years and over   \n",
       "4      2003  Newfoundland and Labrador     10  Total, 12 years and over   \n",
       "\n",
       "          Sex                          Probability of depression  \\\n",
       "0  Both sexes  Total population for the variable probability ...   \n",
       "1  Both sexes  Total population for the variable probability ...   \n",
       "2  Both sexes  Total population for the variable probability ...   \n",
       "3  Both sexes  Total population for the variable probability ...   \n",
       "4  Both sexes  Total population for the variable probability ...   \n",
       "\n",
       "                                   Characteristics      UOM  UOM_ID  \\\n",
       "0                                Number of persons  Persons     249   \n",
       "1   Low 95% confidence interval, number of persons  Persons     249   \n",
       "2  High 95% confidence interval, number of persons  Persons     249   \n",
       "3   Coefficient of variation for number of persons  Persons     249   \n",
       "4                                          Percent  Percent     239   \n",
       "\n",
       "  SCALAR_FACTOR  SCALAR_ID     VECTOR COORDINATE     VALUE STATUS  SYMBOL  \\\n",
       "0        units           0  v26656800  2.1.1.1.1  460130.0    NaN     NaN   \n",
       "1        units           0  v26656801  2.1.1.1.2  460130.0    NaN     NaN   \n",
       "2        units           0  v26656802  2.1.1.1.3  460130.0    NaN     NaN   \n",
       "3        units           0  v26656803  2.1.1.1.4       0.0    NaN     NaN   \n",
       "4        units           0  v26656804  2.1.1.1.5     100.0    NaN     NaN   \n",
       "\n",
       "   TERMINATED  DECIMALS  \n",
       "0         NaN         0  \n",
       "1         NaN         0  \n",
       "2         NaN         0  \n",
       "3         NaN         1  \n",
       "4         NaN         1  "
      ]
     },
     "execution_count": 3,
     "metadata": {},
     "output_type": "execute_result"
    }
   ],
   "source": [
    "df.head()"
   ]
  },
  {
   "cell_type": "code",
   "execution_count": 4,
   "id": "db898713",
   "metadata": {},
   "outputs": [
    {
     "data": {
      "text/html": [
       "<div>\n",
       "<style scoped>\n",
       "    .dataframe tbody tr th:only-of-type {\n",
       "        vertical-align: middle;\n",
       "    }\n",
       "\n",
       "    .dataframe tbody tr th {\n",
       "        vertical-align: top;\n",
       "    }\n",
       "\n",
       "    .dataframe thead th {\n",
       "        text-align: right;\n",
       "    }\n",
       "</style>\n",
       "<table border=\"1\" class=\"dataframe\">\n",
       "  <thead>\n",
       "    <tr style=\"text-align: right;\">\n",
       "      <th></th>\n",
       "      <th>Cube Title</th>\n",
       "      <th>Product Id</th>\n",
       "      <th>CANSIM Id</th>\n",
       "      <th>URL</th>\n",
       "      <th>Cube Notes</th>\n",
       "      <th>Archive Status</th>\n",
       "      <th>Frequency</th>\n",
       "      <th>Start Reference Period</th>\n",
       "      <th>End Reference Period</th>\n",
       "      <th>Total number of dimensions</th>\n",
       "    </tr>\n",
       "  </thead>\n",
       "  <tbody>\n",
       "    <tr>\n",
       "      <th>0</th>\n",
       "      <td>Probability of depression, by age group and se...</td>\n",
       "      <td>13100607</td>\n",
       "      <td>105-0205</td>\n",
       "      <td>https://www150.statcan.gc.ca/t1/tbl1/en/tv.act...</td>\n",
       "      <td>1;2;3;4;8;9;10;15</td>\n",
       "      <td>ARCHIVED -  a cube publicly available but no l...</td>\n",
       "      <td>Every 2 years</td>\n",
       "      <td>2003-01-01</td>\n",
       "      <td>2003-01-01</td>\n",
       "      <td>5</td>\n",
       "    </tr>\n",
       "    <tr>\n",
       "      <th>1</th>\n",
       "      <td>Dimension ID</td>\n",
       "      <td>Dimension name</td>\n",
       "      <td>Dimension Notes</td>\n",
       "      <td>Dimension Correction Notes</td>\n",
       "      <td>Dimension Definitions</td>\n",
       "      <td>NaN</td>\n",
       "      <td>NaN</td>\n",
       "      <td>NaN</td>\n",
       "      <td>NaN</td>\n",
       "      <td>NaN</td>\n",
       "    </tr>\n",
       "    <tr>\n",
       "      <th>2</th>\n",
       "      <td>1</td>\n",
       "      <td>Geography</td>\n",
       "      <td>4;8;9;10</td>\n",
       "      <td>NaN</td>\n",
       "      <td>NaN</td>\n",
       "      <td>NaN</td>\n",
       "      <td>NaN</td>\n",
       "      <td>NaN</td>\n",
       "      <td>NaN</td>\n",
       "      <td>NaN</td>\n",
       "    </tr>\n",
       "    <tr>\n",
       "      <th>3</th>\n",
       "      <td>2</td>\n",
       "      <td>Age group</td>\n",
       "      <td>NaN</td>\n",
       "      <td>NaN</td>\n",
       "      <td>NaN</td>\n",
       "      <td>NaN</td>\n",
       "      <td>NaN</td>\n",
       "      <td>NaN</td>\n",
       "      <td>NaN</td>\n",
       "      <td>NaN</td>\n",
       "    </tr>\n",
       "    <tr>\n",
       "      <th>4</th>\n",
       "      <td>3</td>\n",
       "      <td>Sex</td>\n",
       "      <td>NaN</td>\n",
       "      <td>NaN</td>\n",
       "      <td>NaN</td>\n",
       "      <td>NaN</td>\n",
       "      <td>NaN</td>\n",
       "      <td>NaN</td>\n",
       "      <td>NaN</td>\n",
       "      <td>NaN</td>\n",
       "    </tr>\n",
       "  </tbody>\n",
       "</table>\n",
       "</div>"
      ],
      "text/plain": [
       "                                          Cube Title      Product Id  \\\n",
       "0  Probability of depression, by age group and se...        13100607   \n",
       "1                                       Dimension ID  Dimension name   \n",
       "2                                                  1       Geography   \n",
       "3                                                  2       Age group   \n",
       "4                                                  3             Sex   \n",
       "\n",
       "         CANSIM Id                                                URL  \\\n",
       "0         105-0205  https://www150.statcan.gc.ca/t1/tbl1/en/tv.act...   \n",
       "1  Dimension Notes                         Dimension Correction Notes   \n",
       "2         4;8;9;10                                                NaN   \n",
       "3              NaN                                                NaN   \n",
       "4              NaN                                                NaN   \n",
       "\n",
       "              Cube Notes                                     Archive Status  \\\n",
       "0      1;2;3;4;8;9;10;15  ARCHIVED -  a cube publicly available but no l...   \n",
       "1  Dimension Definitions                                                NaN   \n",
       "2                    NaN                                                NaN   \n",
       "3                    NaN                                                NaN   \n",
       "4                    NaN                                                NaN   \n",
       "\n",
       "       Frequency Start Reference Period End Reference Period  \\\n",
       "0  Every 2 years             2003-01-01           2003-01-01   \n",
       "1            NaN                    NaN                  NaN   \n",
       "2            NaN                    NaN                  NaN   \n",
       "3            NaN                    NaN                  NaN   \n",
       "4            NaN                    NaN                  NaN   \n",
       "\n",
       "  Total number of dimensions  \n",
       "0                          5  \n",
       "1                        NaN  \n",
       "2                        NaN  \n",
       "3                        NaN  \n",
       "4                        NaN  "
      ]
     },
     "execution_count": 4,
     "metadata": {},
     "output_type": "execute_result"
    }
   ],
   "source": [
    "df_meta.head()"
   ]
  },
  {
   "cell_type": "code",
   "execution_count": 5,
   "id": "7acc0641",
   "metadata": {},
   "outputs": [
    {
     "data": {
      "text/plain": [
       "(90048, 18)"
      ]
     },
     "execution_count": 5,
     "metadata": {},
     "output_type": "execute_result"
    }
   ],
   "source": [
    "df.shape"
   ]
  },
  {
   "cell_type": "code",
   "execution_count": 6,
   "id": "537b3c5c",
   "metadata": {},
   "outputs": [
    {
     "data": {
      "text/plain": [
       "(144, 10)"
      ]
     },
     "execution_count": 6,
     "metadata": {},
     "output_type": "execute_result"
    }
   ],
   "source": [
    "df_meta.shape"
   ]
  },
  {
   "cell_type": "code",
   "execution_count": 7,
   "id": "27418b90",
   "metadata": {},
   "outputs": [
    {
     "data": {
      "text/plain": [
       "REF_DATE                         0\n",
       "GEO                              0\n",
       "DGUID                            0\n",
       "Age group                        0\n",
       "Sex                              0\n",
       "Probability of depression        0\n",
       "Characteristics                  0\n",
       "UOM                              0\n",
       "UOM_ID                           0\n",
       "SCALAR_FACTOR                    0\n",
       "SCALAR_ID                        0\n",
       "VECTOR                           0\n",
       "COORDINATE                       0\n",
       "VALUE                        36044\n",
       "STATUS                       42872\n",
       "SYMBOL                       90048\n",
       "TERMINATED                   90048\n",
       "DECIMALS                         0\n",
       "dtype: int64"
      ]
     },
     "execution_count": 7,
     "metadata": {},
     "output_type": "execute_result"
    }
   ],
   "source": [
    "df.isnull().sum()"
   ]
  },
  {
   "cell_type": "code",
   "execution_count": 8,
   "id": "6ee503ba",
   "metadata": {},
   "outputs": [],
   "source": [
    "df=df.drop(columns=['VALUE','STATUS','SYMBOL','TERMINATED'] ,axis=1)"
   ]
  },
  {
   "cell_type": "code",
   "execution_count": 18,
   "id": "ca4f75ad",
   "metadata": {},
   "outputs": [],
   "source": [
    "# df=df.dropna(inplace=True)"
   ]
  },
  {
   "cell_type": "code",
   "execution_count": 9,
   "id": "140c2f16",
   "metadata": {},
   "outputs": [
    {
     "data": {
      "text/html": [
       "<div>\n",
       "<style scoped>\n",
       "    .dataframe tbody tr th:only-of-type {\n",
       "        vertical-align: middle;\n",
       "    }\n",
       "\n",
       "    .dataframe tbody tr th {\n",
       "        vertical-align: top;\n",
       "    }\n",
       "\n",
       "    .dataframe thead th {\n",
       "        text-align: right;\n",
       "    }\n",
       "</style>\n",
       "<table border=\"1\" class=\"dataframe\">\n",
       "  <thead>\n",
       "    <tr style=\"text-align: right;\">\n",
       "      <th></th>\n",
       "      <th>REF_DATE</th>\n",
       "      <th>GEO</th>\n",
       "      <th>DGUID</th>\n",
       "      <th>Age group</th>\n",
       "      <th>Sex</th>\n",
       "      <th>Probability of depression</th>\n",
       "      <th>Characteristics</th>\n",
       "      <th>UOM</th>\n",
       "      <th>UOM_ID</th>\n",
       "      <th>SCALAR_FACTOR</th>\n",
       "      <th>SCALAR_ID</th>\n",
       "      <th>VECTOR</th>\n",
       "      <th>COORDINATE</th>\n",
       "      <th>DECIMALS</th>\n",
       "    </tr>\n",
       "  </thead>\n",
       "  <tbody>\n",
       "    <tr>\n",
       "      <th>0</th>\n",
       "      <td>2003</td>\n",
       "      <td>Newfoundland and Labrador</td>\n",
       "      <td>10</td>\n",
       "      <td>Total, 12 years and over</td>\n",
       "      <td>Both sexes</td>\n",
       "      <td>Total population for the variable probability ...</td>\n",
       "      <td>Number of persons</td>\n",
       "      <td>Persons</td>\n",
       "      <td>249</td>\n",
       "      <td>units</td>\n",
       "      <td>0</td>\n",
       "      <td>v26656800</td>\n",
       "      <td>2.1.1.1.1</td>\n",
       "      <td>0</td>\n",
       "    </tr>\n",
       "    <tr>\n",
       "      <th>1</th>\n",
       "      <td>2003</td>\n",
       "      <td>Newfoundland and Labrador</td>\n",
       "      <td>10</td>\n",
       "      <td>Total, 12 years and over</td>\n",
       "      <td>Both sexes</td>\n",
       "      <td>Total population for the variable probability ...</td>\n",
       "      <td>Low 95% confidence interval, number of persons</td>\n",
       "      <td>Persons</td>\n",
       "      <td>249</td>\n",
       "      <td>units</td>\n",
       "      <td>0</td>\n",
       "      <td>v26656801</td>\n",
       "      <td>2.1.1.1.2</td>\n",
       "      <td>0</td>\n",
       "    </tr>\n",
       "    <tr>\n",
       "      <th>2</th>\n",
       "      <td>2003</td>\n",
       "      <td>Newfoundland and Labrador</td>\n",
       "      <td>10</td>\n",
       "      <td>Total, 12 years and over</td>\n",
       "      <td>Both sexes</td>\n",
       "      <td>Total population for the variable probability ...</td>\n",
       "      <td>High 95% confidence interval, number of persons</td>\n",
       "      <td>Persons</td>\n",
       "      <td>249</td>\n",
       "      <td>units</td>\n",
       "      <td>0</td>\n",
       "      <td>v26656802</td>\n",
       "      <td>2.1.1.1.3</td>\n",
       "      <td>0</td>\n",
       "    </tr>\n",
       "    <tr>\n",
       "      <th>3</th>\n",
       "      <td>2003</td>\n",
       "      <td>Newfoundland and Labrador</td>\n",
       "      <td>10</td>\n",
       "      <td>Total, 12 years and over</td>\n",
       "      <td>Both sexes</td>\n",
       "      <td>Total population for the variable probability ...</td>\n",
       "      <td>Coefficient of variation for number of persons</td>\n",
       "      <td>Persons</td>\n",
       "      <td>249</td>\n",
       "      <td>units</td>\n",
       "      <td>0</td>\n",
       "      <td>v26656803</td>\n",
       "      <td>2.1.1.1.4</td>\n",
       "      <td>1</td>\n",
       "    </tr>\n",
       "    <tr>\n",
       "      <th>4</th>\n",
       "      <td>2003</td>\n",
       "      <td>Newfoundland and Labrador</td>\n",
       "      <td>10</td>\n",
       "      <td>Total, 12 years and over</td>\n",
       "      <td>Both sexes</td>\n",
       "      <td>Total population for the variable probability ...</td>\n",
       "      <td>Percent</td>\n",
       "      <td>Percent</td>\n",
       "      <td>239</td>\n",
       "      <td>units</td>\n",
       "      <td>0</td>\n",
       "      <td>v26656804</td>\n",
       "      <td>2.1.1.1.5</td>\n",
       "      <td>1</td>\n",
       "    </tr>\n",
       "  </tbody>\n",
       "</table>\n",
       "</div>"
      ],
      "text/plain": [
       "   REF_DATE                        GEO  DGUID                 Age group  \\\n",
       "0      2003  Newfoundland and Labrador     10  Total, 12 years and over   \n",
       "1      2003  Newfoundland and Labrador     10  Total, 12 years and over   \n",
       "2      2003  Newfoundland and Labrador     10  Total, 12 years and over   \n",
       "3      2003  Newfoundland and Labrador     10  Total, 12 years and over   \n",
       "4      2003  Newfoundland and Labrador     10  Total, 12 years and over   \n",
       "\n",
       "          Sex                          Probability of depression  \\\n",
       "0  Both sexes  Total population for the variable probability ...   \n",
       "1  Both sexes  Total population for the variable probability ...   \n",
       "2  Both sexes  Total population for the variable probability ...   \n",
       "3  Both sexes  Total population for the variable probability ...   \n",
       "4  Both sexes  Total population for the variable probability ...   \n",
       "\n",
       "                                   Characteristics      UOM  UOM_ID  \\\n",
       "0                                Number of persons  Persons     249   \n",
       "1   Low 95% confidence interval, number of persons  Persons     249   \n",
       "2  High 95% confidence interval, number of persons  Persons     249   \n",
       "3   Coefficient of variation for number of persons  Persons     249   \n",
       "4                                          Percent  Percent     239   \n",
       "\n",
       "  SCALAR_FACTOR  SCALAR_ID     VECTOR COORDINATE  DECIMALS  \n",
       "0        units           0  v26656800  2.1.1.1.1         0  \n",
       "1        units           0  v26656801  2.1.1.1.2         0  \n",
       "2        units           0  v26656802  2.1.1.1.3         0  \n",
       "3        units           0  v26656803  2.1.1.1.4         1  \n",
       "4        units           0  v26656804  2.1.1.1.5         1  "
      ]
     },
     "execution_count": 9,
     "metadata": {},
     "output_type": "execute_result"
    }
   ],
   "source": [
    "df.head()"
   ]
  },
  {
   "cell_type": "code",
   "execution_count": 10,
   "id": "da2d68bb",
   "metadata": {},
   "outputs": [
    {
     "data": {
      "text/plain": [
       "Total population for the variable probability of depression    22512\n",
       "Probability of depression, less than 0.9                       22512\n",
       "Probability of depression, 0.9 or greater                      22512\n",
       "Probability of depression, not stated                          22512\n",
       "Name: Probability of depression, dtype: int64"
      ]
     },
     "execution_count": 10,
     "metadata": {},
     "output_type": "execute_result"
    }
   ],
   "source": [
    "df['Probability of depression'].value_counts()"
   ]
  },
  {
   "cell_type": "code",
   "execution_count": 11,
   "id": "e2507d8b",
   "metadata": {},
   "outputs": [
    {
     "name": "stderr",
     "output_type": "stream",
     "text": [
      "C:\\Users\\Vidushi\\AppData\\Local\\Temp\\ipykernel_7396\\1608917492.py:1: FutureWarning: The default value of numeric_only in DataFrameGroupBy.mean is deprecated. In a future version, numeric_only will default to False. Either specify numeric_only or select only columns which should be valid for the function.\n",
      "  df.groupby('Probability of depression').mean()\n"
     ]
    },
    {
     "data": {
      "text/html": [
       "<div>\n",
       "<style scoped>\n",
       "    .dataframe tbody tr th:only-of-type {\n",
       "        vertical-align: middle;\n",
       "    }\n",
       "\n",
       "    .dataframe tbody tr th {\n",
       "        vertical-align: top;\n",
       "    }\n",
       "\n",
       "    .dataframe thead th {\n",
       "        text-align: right;\n",
       "    }\n",
       "</style>\n",
       "<table border=\"1\" class=\"dataframe\">\n",
       "  <thead>\n",
       "    <tr style=\"text-align: right;\">\n",
       "      <th></th>\n",
       "      <th>REF_DATE</th>\n",
       "      <th>DGUID</th>\n",
       "      <th>UOM_ID</th>\n",
       "      <th>SCALAR_ID</th>\n",
       "      <th>DECIMALS</th>\n",
       "    </tr>\n",
       "    <tr>\n",
       "      <th>Probability of depression</th>\n",
       "      <th></th>\n",
       "      <th></th>\n",
       "      <th></th>\n",
       "      <th></th>\n",
       "      <th></th>\n",
       "    </tr>\n",
       "  </thead>\n",
       "  <tbody>\n",
       "    <tr>\n",
       "      <th>Probability of depression, 0.9 or greater</th>\n",
       "      <td>2003.0</td>\n",
       "      <td>2904.671642</td>\n",
       "      <td>244.0</td>\n",
       "      <td>0.0</td>\n",
       "      <td>0.625</td>\n",
       "    </tr>\n",
       "    <tr>\n",
       "      <th>Probability of depression, less than 0.9</th>\n",
       "      <td>2003.0</td>\n",
       "      <td>2904.671642</td>\n",
       "      <td>244.0</td>\n",
       "      <td>0.0</td>\n",
       "      <td>0.625</td>\n",
       "    </tr>\n",
       "    <tr>\n",
       "      <th>Probability of depression, not stated</th>\n",
       "      <td>2003.0</td>\n",
       "      <td>2904.671642</td>\n",
       "      <td>244.0</td>\n",
       "      <td>0.0</td>\n",
       "      <td>0.625</td>\n",
       "    </tr>\n",
       "    <tr>\n",
       "      <th>Total population for the variable probability of depression</th>\n",
       "      <td>2003.0</td>\n",
       "      <td>2904.671642</td>\n",
       "      <td>244.0</td>\n",
       "      <td>0.0</td>\n",
       "      <td>0.625</td>\n",
       "    </tr>\n",
       "  </tbody>\n",
       "</table>\n",
       "</div>"
      ],
      "text/plain": [
       "                                                    REF_DATE        DGUID  \\\n",
       "Probability of depression                                                   \n",
       "Probability of depression, 0.9 or greater             2003.0  2904.671642   \n",
       "Probability of depression, less than 0.9              2003.0  2904.671642   \n",
       "Probability of depression, not stated                 2003.0  2904.671642   \n",
       "Total population for the variable probability o...    2003.0  2904.671642   \n",
       "\n",
       "                                                    UOM_ID  SCALAR_ID  \\\n",
       "Probability of depression                                               \n",
       "Probability of depression, 0.9 or greater            244.0        0.0   \n",
       "Probability of depression, less than 0.9             244.0        0.0   \n",
       "Probability of depression, not stated                244.0        0.0   \n",
       "Total population for the variable probability o...   244.0        0.0   \n",
       "\n",
       "                                                    DECIMALS  \n",
       "Probability of depression                                     \n",
       "Probability of depression, 0.9 or greater              0.625  \n",
       "Probability of depression, less than 0.9               0.625  \n",
       "Probability of depression, not stated                  0.625  \n",
       "Total population for the variable probability o...     0.625  "
      ]
     },
     "execution_count": 11,
     "metadata": {},
     "output_type": "execute_result"
    }
   ],
   "source": [
    "df.groupby('Probability of depression').mean()"
   ]
  },
  {
   "cell_type": "code",
   "execution_count": 14,
   "id": "1d6a4f26",
   "metadata": {},
   "outputs": [],
   "source": [
    "x=df.drop(columns='Probability of depression',axis=1)\n",
    "y=df['Probability of depression']"
   ]
  },
  {
   "cell_type": "code",
   "execution_count": 15,
   "id": "8ac32ca4",
   "metadata": {},
   "outputs": [
    {
     "name": "stdout",
     "output_type": "stream",
     "text": [
      "       REF_DATE                        GEO  DGUID                 Age group  \\\n",
      "0          2003  Newfoundland and Labrador     10  Total, 12 years and over   \n",
      "1          2003  Newfoundland and Labrador     10  Total, 12 years and over   \n",
      "2          2003  Newfoundland and Labrador     10  Total, 12 years and over   \n",
      "3          2003  Newfoundland and Labrador     10  Total, 12 years and over   \n",
      "4          2003  Newfoundland and Labrador     10  Total, 12 years and over   \n",
      "...         ...                        ...    ...                       ...   \n",
      "90043      2003                    Nunavut   6201         75 years and over   \n",
      "90044      2003                    Nunavut   6201         75 years and over   \n",
      "90045      2003                    Nunavut   6201         75 years and over   \n",
      "90046      2003                    Nunavut   6201         75 years and over   \n",
      "90047      2003                    Nunavut   6201         75 years and over   \n",
      "\n",
      "              Sex                                  Characteristics      UOM  \\\n",
      "0      Both sexes                                Number of persons  Persons   \n",
      "1      Both sexes   Low 95% confidence interval, number of persons  Persons   \n",
      "2      Both sexes  High 95% confidence interval, number of persons  Persons   \n",
      "3      Both sexes   Coefficient of variation for number of persons  Persons   \n",
      "4      Both sexes                                          Percent  Percent   \n",
      "...           ...                                              ...      ...   \n",
      "90043     Females   Coefficient of variation for number of persons  Persons   \n",
      "90044     Females                                          Percent  Percent   \n",
      "90045     Females             Low 95% confidence interval, percent  Percent   \n",
      "90046     Females            High 95% confidence interval, percent  Percent   \n",
      "90047     Females             Coefficient of variation for percent  Percent   \n",
      "\n",
      "       UOM_ID SCALAR_FACTOR  SCALAR_ID     VECTOR    COORDINATE  DECIMALS  \n",
      "0         249        units           0  v26656800     2.1.1.1.1         0  \n",
      "1         249        units           0  v26656801     2.1.1.1.2         0  \n",
      "2         249        units           0  v26656802     2.1.1.1.3         0  \n",
      "3         249        units           0  v26656803     2.1.1.1.4         1  \n",
      "4         239        units           0  v26656804     2.1.1.1.5         1  \n",
      "...       ...           ...        ...        ...           ...       ...  \n",
      "90043     249        units           0  v26734747  163.14.3.5.4         1  \n",
      "90044     239        units           0  v26734748  163.14.3.5.5         1  \n",
      "90045     239        units           0  v26734749  163.14.3.5.6         1  \n",
      "90046     239        units           0  v26734750  163.14.3.5.7         1  \n",
      "90047     239        units           0  v26734751  163.14.3.5.8         1  \n",
      "\n",
      "[90048 rows x 13 columns]\n"
     ]
    }
   ],
   "source": [
    "print(x)"
   ]
  },
  {
   "cell_type": "code",
   "execution_count": 16,
   "id": "8c2a4d60",
   "metadata": {},
   "outputs": [
    {
     "name": "stdout",
     "output_type": "stream",
     "text": [
      "0        Total population for the variable probability ...\n",
      "1        Total population for the variable probability ...\n",
      "2        Total population for the variable probability ...\n",
      "3        Total population for the variable probability ...\n",
      "4        Total population for the variable probability ...\n",
      "                               ...                        \n",
      "90043                Probability of depression, not stated\n",
      "90044                Probability of depression, not stated\n",
      "90045                Probability of depression, not stated\n",
      "90046                Probability of depression, not stated\n",
      "90047                Probability of depression, not stated\n",
      "Name: Probability of depression, Length: 90048, dtype: object\n"
     ]
    }
   ],
   "source": [
    "print(y)"
   ]
  },
  {
   "cell_type": "code",
   "execution_count": 17,
   "id": "526509ab",
   "metadata": {},
   "outputs": [
    {
     "data": {
      "text/plain": [
       "(90048, 13)"
      ]
     },
     "execution_count": 17,
     "metadata": {},
     "output_type": "execute_result"
    }
   ],
   "source": [
    "x.shape"
   ]
  },
  {
   "cell_type": "code",
   "execution_count": 18,
   "id": "228d12bf",
   "metadata": {},
   "outputs": [
    {
     "data": {
      "text/plain": [
       "(90048,)"
      ]
     },
     "execution_count": 18,
     "metadata": {},
     "output_type": "execute_result"
    }
   ],
   "source": [
    "y.shape"
   ]
  },
  {
   "cell_type": "code",
   "execution_count": 19,
   "id": "0a16f172",
   "metadata": {},
   "outputs": [],
   "source": [
    "X_train, X_test, y_train, y_test = train_test_split(x, y, test_size=0.5, random_state=0)"
   ]
  },
  {
   "cell_type": "code",
   "execution_count": 20,
   "id": "711da94c",
   "metadata": {},
   "outputs": [
    {
     "name": "stdout",
     "output_type": "stream",
     "text": [
      "(90048, 13) (45024, 13) (45024, 13)\n"
     ]
    }
   ],
   "source": [
    "print(x.shape,X_test.shape,X_train.shape)"
   ]
  },
  {
   "cell_type": "code",
   "execution_count": 21,
   "id": "5573c516",
   "metadata": {},
   "outputs": [
    {
     "name": "stdout",
     "output_type": "stream",
     "text": [
      "32739    Total population for the variable probability ...\n",
      "87596             Probability of depression, less than 0.9\n",
      "65450             Probability of depression, less than 0.9\n",
      "36851            Probability of depression, 0.9 or greater\n",
      "39037                Probability of depression, not stated\n",
      "                               ...                        \n",
      "21243                Probability of depression, not stated\n",
      "45891    Total population for the variable probability ...\n",
      "42613            Probability of depression, 0.9 or greater\n",
      "43567             Probability of depression, less than 0.9\n",
      "68268             Probability of depression, less than 0.9\n",
      "Name: Probability of depression, Length: 45024, dtype: object\n"
     ]
    }
   ],
   "source": [
    "print(y_train)"
   ]
  },
  {
   "cell_type": "code",
   "execution_count": 22,
   "id": "d5b6d4b8",
   "metadata": {},
   "outputs": [],
   "source": [
    "model = GaussianNB() "
   ]
  },
  {
   "cell_type": "code",
   "execution_count": 27,
   "id": "c8fac1e8",
   "metadata": {},
   "outputs": [],
   "source": [
    "# y_pred = model.fit(X_train, y_train).predict(X_test)"
   ]
  },
  {
   "cell_type": "code",
   "execution_count": 25,
   "id": "399a6d47",
   "metadata": {},
   "outputs": [
    {
     "data": {
      "text/plain": [
       "Index(['REF_DATE', 'GEO', 'DGUID', 'Age group', 'Sex', 'Characteristics',\n",
       "       'UOM', 'UOM_ID', 'SCALAR_FACTOR', 'SCALAR_ID', 'VECTOR', 'COORDINATE',\n",
       "       'DECIMALS'],\n",
       "      dtype='object')"
      ]
     },
     "execution_count": 25,
     "metadata": {},
     "output_type": "execute_result"
    }
   ],
   "source": [
    "X_train.keys()"
   ]
  },
  {
   "cell_type": "code",
   "execution_count": 28,
   "id": "16625cac",
   "metadata": {},
   "outputs": [],
   "source": [
    "from sklearn.feature_extraction.text import TfidfVectorizer\n",
    "from sklearn.naive_bayes import MultinomialNB\n",
    "from sklearn.pipeline import make_pipeline\n",
    "\n",
    "model = make_pipeline(TfidfVectorizer(analyzer = \"word\", ngram_range=(1,3)), MultinomialNB(alpha = 10))"
   ]
  },
  {
   "cell_type": "code",
   "execution_count": 30,
   "id": "b1c17f1d",
   "metadata": {},
   "outputs": [
    {
     "ename": "ValueError",
     "evalue": "Found input variables with inconsistent numbers of samples: [13, 45024]",
     "output_type": "error",
     "traceback": [
      "\u001b[1;31m---------------------------------------------------------------------------\u001b[0m",
      "\u001b[1;31mValueError\u001b[0m                                Traceback (most recent call last)",
      "Cell \u001b[1;32mIn[30], line 1\u001b[0m\n\u001b[1;32m----> 1\u001b[0m \u001b[43mmodel\u001b[49m\u001b[38;5;241;43m.\u001b[39;49m\u001b[43mfit\u001b[49m\u001b[43m(\u001b[49m\u001b[43mX_train\u001b[49m\u001b[43m,\u001b[49m\u001b[43my_train\u001b[49m\u001b[43m)\u001b[49m\n",
      "File \u001b[1;32m~\\AppData\\Local\\Programs\\Python\\Python311\\Lib\\site-packages\\sklearn\\pipeline.py:406\u001b[0m, in \u001b[0;36mPipeline.fit\u001b[1;34m(self, X, y, **fit_params)\u001b[0m\n\u001b[0;32m    404\u001b[0m     \u001b[38;5;28;01mif\u001b[39;00m \u001b[38;5;28mself\u001b[39m\u001b[38;5;241m.\u001b[39m_final_estimator \u001b[38;5;241m!=\u001b[39m \u001b[38;5;124m\"\u001b[39m\u001b[38;5;124mpassthrough\u001b[39m\u001b[38;5;124m\"\u001b[39m:\n\u001b[0;32m    405\u001b[0m         fit_params_last_step \u001b[38;5;241m=\u001b[39m fit_params_steps[\u001b[38;5;28mself\u001b[39m\u001b[38;5;241m.\u001b[39msteps[\u001b[38;5;241m-\u001b[39m\u001b[38;5;241m1\u001b[39m][\u001b[38;5;241m0\u001b[39m]]\n\u001b[1;32m--> 406\u001b[0m         \u001b[38;5;28;43mself\u001b[39;49m\u001b[38;5;241;43m.\u001b[39;49m\u001b[43m_final_estimator\u001b[49m\u001b[38;5;241;43m.\u001b[39;49m\u001b[43mfit\u001b[49m\u001b[43m(\u001b[49m\u001b[43mXt\u001b[49m\u001b[43m,\u001b[49m\u001b[43m \u001b[49m\u001b[43my\u001b[49m\u001b[43m,\u001b[49m\u001b[43m \u001b[49m\u001b[38;5;241;43m*\u001b[39;49m\u001b[38;5;241;43m*\u001b[39;49m\u001b[43mfit_params_last_step\u001b[49m\u001b[43m)\u001b[49m\n\u001b[0;32m    408\u001b[0m \u001b[38;5;28;01mreturn\u001b[39;00m \u001b[38;5;28mself\u001b[39m\n",
      "File \u001b[1;32m~\\AppData\\Local\\Programs\\Python\\Python311\\Lib\\site-packages\\sklearn\\naive_bayes.py:747\u001b[0m, in \u001b[0;36m_BaseDiscreteNB.fit\u001b[1;34m(self, X, y, sample_weight)\u001b[0m\n\u001b[0;32m    727\u001b[0m \u001b[38;5;250m\u001b[39m\u001b[38;5;124;03m\"\"\"Fit Naive Bayes classifier according to X, y.\u001b[39;00m\n\u001b[0;32m    728\u001b[0m \n\u001b[0;32m    729\u001b[0m \u001b[38;5;124;03mParameters\u001b[39;00m\n\u001b[1;32m   (...)\u001b[0m\n\u001b[0;32m    744\u001b[0m \u001b[38;5;124;03m    Returns the instance itself.\u001b[39;00m\n\u001b[0;32m    745\u001b[0m \u001b[38;5;124;03m\"\"\"\u001b[39;00m\n\u001b[0;32m    746\u001b[0m \u001b[38;5;28mself\u001b[39m\u001b[38;5;241m.\u001b[39m_validate_params()\n\u001b[1;32m--> 747\u001b[0m X, y \u001b[38;5;241m=\u001b[39m \u001b[38;5;28;43mself\u001b[39;49m\u001b[38;5;241;43m.\u001b[39;49m\u001b[43m_check_X_y\u001b[49m\u001b[43m(\u001b[49m\u001b[43mX\u001b[49m\u001b[43m,\u001b[49m\u001b[43m \u001b[49m\u001b[43my\u001b[49m\u001b[43m)\u001b[49m\n\u001b[0;32m    748\u001b[0m _, n_features \u001b[38;5;241m=\u001b[39m X\u001b[38;5;241m.\u001b[39mshape\n\u001b[0;32m    750\u001b[0m labelbin \u001b[38;5;241m=\u001b[39m LabelBinarizer()\n",
      "File \u001b[1;32m~\\AppData\\Local\\Programs\\Python\\Python311\\Lib\\site-packages\\sklearn\\naive_bayes.py:581\u001b[0m, in \u001b[0;36m_BaseDiscreteNB._check_X_y\u001b[1;34m(self, X, y, reset)\u001b[0m\n\u001b[0;32m    579\u001b[0m \u001b[38;5;28;01mdef\u001b[39;00m \u001b[38;5;21m_check_X_y\u001b[39m(\u001b[38;5;28mself\u001b[39m, X, y, reset\u001b[38;5;241m=\u001b[39m\u001b[38;5;28;01mTrue\u001b[39;00m):\n\u001b[0;32m    580\u001b[0m \u001b[38;5;250m    \u001b[39m\u001b[38;5;124;03m\"\"\"Validate X and y in fit methods.\"\"\"\u001b[39;00m\n\u001b[1;32m--> 581\u001b[0m     \u001b[38;5;28;01mreturn\u001b[39;00m \u001b[38;5;28;43mself\u001b[39;49m\u001b[38;5;241;43m.\u001b[39;49m\u001b[43m_validate_data\u001b[49m\u001b[43m(\u001b[49m\u001b[43mX\u001b[49m\u001b[43m,\u001b[49m\u001b[43m \u001b[49m\u001b[43my\u001b[49m\u001b[43m,\u001b[49m\u001b[43m \u001b[49m\u001b[43maccept_sparse\u001b[49m\u001b[38;5;241;43m=\u001b[39;49m\u001b[38;5;124;43m\"\u001b[39;49m\u001b[38;5;124;43mcsr\u001b[39;49m\u001b[38;5;124;43m\"\u001b[39;49m\u001b[43m,\u001b[49m\u001b[43m \u001b[49m\u001b[43mreset\u001b[49m\u001b[38;5;241;43m=\u001b[39;49m\u001b[43mreset\u001b[49m\u001b[43m)\u001b[49m\n",
      "File \u001b[1;32m~\\AppData\\Local\\Programs\\Python\\Python311\\Lib\\site-packages\\sklearn\\base.py:554\u001b[0m, in \u001b[0;36mBaseEstimator._validate_data\u001b[1;34m(self, X, y, reset, validate_separately, **check_params)\u001b[0m\n\u001b[0;32m    552\u001b[0m         y \u001b[38;5;241m=\u001b[39m check_array(y, input_name\u001b[38;5;241m=\u001b[39m\u001b[38;5;124m\"\u001b[39m\u001b[38;5;124my\u001b[39m\u001b[38;5;124m\"\u001b[39m, \u001b[38;5;241m*\u001b[39m\u001b[38;5;241m*\u001b[39mcheck_y_params)\n\u001b[0;32m    553\u001b[0m     \u001b[38;5;28;01melse\u001b[39;00m:\n\u001b[1;32m--> 554\u001b[0m         X, y \u001b[38;5;241m=\u001b[39m \u001b[43mcheck_X_y\u001b[49m\u001b[43m(\u001b[49m\u001b[43mX\u001b[49m\u001b[43m,\u001b[49m\u001b[43m \u001b[49m\u001b[43my\u001b[49m\u001b[43m,\u001b[49m\u001b[43m \u001b[49m\u001b[38;5;241;43m*\u001b[39;49m\u001b[38;5;241;43m*\u001b[39;49m\u001b[43mcheck_params\u001b[49m\u001b[43m)\u001b[49m\n\u001b[0;32m    555\u001b[0m     out \u001b[38;5;241m=\u001b[39m X, y\n\u001b[0;32m    557\u001b[0m \u001b[38;5;28;01mif\u001b[39;00m \u001b[38;5;129;01mnot\u001b[39;00m no_val_X \u001b[38;5;129;01mand\u001b[39;00m check_params\u001b[38;5;241m.\u001b[39mget(\u001b[38;5;124m\"\u001b[39m\u001b[38;5;124mensure_2d\u001b[39m\u001b[38;5;124m\"\u001b[39m, \u001b[38;5;28;01mTrue\u001b[39;00m):\n",
      "File \u001b[1;32m~\\AppData\\Local\\Programs\\Python\\Python311\\Lib\\site-packages\\sklearn\\utils\\validation.py:1122\u001b[0m, in \u001b[0;36mcheck_X_y\u001b[1;34m(X, y, accept_sparse, accept_large_sparse, dtype, order, copy, force_all_finite, ensure_2d, allow_nd, multi_output, ensure_min_samples, ensure_min_features, y_numeric, estimator)\u001b[0m\n\u001b[0;32m   1104\u001b[0m X \u001b[38;5;241m=\u001b[39m check_array(\n\u001b[0;32m   1105\u001b[0m     X,\n\u001b[0;32m   1106\u001b[0m     accept_sparse\u001b[38;5;241m=\u001b[39maccept_sparse,\n\u001b[1;32m   (...)\u001b[0m\n\u001b[0;32m   1117\u001b[0m     input_name\u001b[38;5;241m=\u001b[39m\u001b[38;5;124m\"\u001b[39m\u001b[38;5;124mX\u001b[39m\u001b[38;5;124m\"\u001b[39m,\n\u001b[0;32m   1118\u001b[0m )\n\u001b[0;32m   1120\u001b[0m y \u001b[38;5;241m=\u001b[39m _check_y(y, multi_output\u001b[38;5;241m=\u001b[39mmulti_output, y_numeric\u001b[38;5;241m=\u001b[39my_numeric, estimator\u001b[38;5;241m=\u001b[39mestimator)\n\u001b[1;32m-> 1122\u001b[0m \u001b[43mcheck_consistent_length\u001b[49m\u001b[43m(\u001b[49m\u001b[43mX\u001b[49m\u001b[43m,\u001b[49m\u001b[43m \u001b[49m\u001b[43my\u001b[49m\u001b[43m)\u001b[49m\n\u001b[0;32m   1124\u001b[0m \u001b[38;5;28;01mreturn\u001b[39;00m X, y\n",
      "File \u001b[1;32m~\\AppData\\Local\\Programs\\Python\\Python311\\Lib\\site-packages\\sklearn\\utils\\validation.py:397\u001b[0m, in \u001b[0;36mcheck_consistent_length\u001b[1;34m(*arrays)\u001b[0m\n\u001b[0;32m    395\u001b[0m uniques \u001b[38;5;241m=\u001b[39m np\u001b[38;5;241m.\u001b[39munique(lengths)\n\u001b[0;32m    396\u001b[0m \u001b[38;5;28;01mif\u001b[39;00m \u001b[38;5;28mlen\u001b[39m(uniques) \u001b[38;5;241m>\u001b[39m \u001b[38;5;241m1\u001b[39m:\n\u001b[1;32m--> 397\u001b[0m     \u001b[38;5;28;01mraise\u001b[39;00m \u001b[38;5;167;01mValueError\u001b[39;00m(\n\u001b[0;32m    398\u001b[0m         \u001b[38;5;124m\"\u001b[39m\u001b[38;5;124mFound input variables with inconsistent numbers of samples: \u001b[39m\u001b[38;5;132;01m%r\u001b[39;00m\u001b[38;5;124m\"\u001b[39m\n\u001b[0;32m    399\u001b[0m         \u001b[38;5;241m%\u001b[39m [\u001b[38;5;28mint\u001b[39m(l) \u001b[38;5;28;01mfor\u001b[39;00m l \u001b[38;5;129;01min\u001b[39;00m lengths]\n\u001b[0;32m    400\u001b[0m     )\n",
      "\u001b[1;31mValueError\u001b[0m: Found input variables with inconsistent numbers of samples: [13, 45024]"
     ]
    }
   ],
   "source": [
    "model.fit(X_train,y_train)"
   ]
  },
  {
   "cell_type": "code",
   "execution_count": null,
   "id": "4f32ef05",
   "metadata": {},
   "outputs": [],
   "source": []
  }
 ],
 "metadata": {
  "kernelspec": {
   "display_name": "Python 3 (ipykernel)",
   "language": "python",
   "name": "python3"
  },
  "language_info": {
   "codemirror_mode": {
    "name": "ipython",
    "version": 3
   },
   "file_extension": ".py",
   "mimetype": "text/x-python",
   "name": "python",
   "nbconvert_exporter": "python",
   "pygments_lexer": "ipython3",
   "version": "3.11.1"
  }
 },
 "nbformat": 4,
 "nbformat_minor": 5
}
